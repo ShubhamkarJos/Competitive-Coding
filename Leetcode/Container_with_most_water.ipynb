{
  "nbformat": 4,
  "nbformat_minor": 0,
  "metadata": {
    "colab": {
      "name": "Container with most water.ipynb",
      "provenance": [],
      "collapsed_sections": []
    },
    "kernelspec": {
      "name": "python3",
      "display_name": "Python 3"
    }
  },
  "cells": [
    {
      "cell_type": "code",
      "metadata": {
        "id": "iwXpqVKZ4_p-"
      },
      "source": [
        "class Solution:\r\n",
        "    def maxArea(self, height: List[int]) -> int:\r\n",
        "        start = 0\r\n",
        "        end = len(height)-1\r\n",
        "        area = 0\r\n",
        "        \r\n",
        "        while start<end:\r\n",
        "            area = max(area, min(height[start], height[end])*(end-start))\r\n",
        "            if height[start] < height[end]:\r\n",
        "                start+=1;\r\n",
        "            else:\r\n",
        "                end-=1\r\n",
        "\r\n",
        "        return area"
      ],
      "execution_count": null,
      "outputs": []
    }
  ]
}