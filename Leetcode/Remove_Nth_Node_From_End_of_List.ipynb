{
  "nbformat": 4,
  "nbformat_minor": 0,
  "metadata": {
    "colab": {
      "name": " Remove Nth Node From End of List.ipynb",
      "provenance": []
    },
    "kernelspec": {
      "name": "python3",
      "display_name": "Python 3"
    }
  },
  "cells": [
    {
      "cell_type": "code",
      "metadata": {
        "id": "itDfdoMucADC"
      },
      "source": [
        "# Definition for singly-linked list.\r\n",
        "# class ListNode:\r\n",
        "#     def __init__(self, val=0, next=None):\r\n",
        "#         self.val = val\r\n",
        "#         self.next = next\r\n",
        "class Solution:\r\n",
        "    def removeNthFromEnd(self, head: ListNode, n: int) -> ListNode:\r\n",
        "        dummy = ListNode(0)\r\n",
        "        dummy.next = head\r\n",
        "        first = second = dummy\r\n",
        " \r\n",
        "        for i in range(n):\r\n",
        "            first = first.next\r\n",
        " \r\n",
        "        while first.next is not None:\r\n",
        "            first = first.next\r\n",
        "            second = second.next\r\n",
        "        else:\r\n",
        "            second.next = second.next.next\r\n",
        " \r\n",
        "        return dummy.next"
      ],
      "execution_count": null,
      "outputs": []
    }
  ]
}