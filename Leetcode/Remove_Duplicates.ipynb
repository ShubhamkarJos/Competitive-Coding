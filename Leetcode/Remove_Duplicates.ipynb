{
  "nbformat": 4,
  "nbformat_minor": 0,
  "metadata": {
    "colab": {
      "name": "Remove Duplicates.ipynb",
      "provenance": []
    },
    "kernelspec": {
      "name": "python3",
      "display_name": "Python 3"
    }
  },
  "cells": [
    {
      "cell_type": "code",
      "metadata": {
        "id": "nRPsdF8NInfP"
      },
      "source": [
        "class Solution:\r\n",
        "    def removeDuplicates(self, nums: List[int]) -> int:\r\n",
        "        if len(nums) == 0: return 0\r\n",
        "        if len(nums) == 1: return 1\r\n",
        "        \r\n",
        "        \r\n",
        "        j = 1 \r\n",
        "        for i in range(1, len(nums)): \r\n",
        "            if nums[i] != nums[i-1]: \r\n",
        "                nums[j] = nums[i]\r\n",
        "                j += 1\r\n",
        "        \r\n",
        "        for delete_index in range(i, j-1, -1):\r\n",
        "            del nums[delete_index]\r\n",
        "\r\n",
        "        return j"
      ],
      "execution_count": null,
      "outputs": []
    }
  ]
}