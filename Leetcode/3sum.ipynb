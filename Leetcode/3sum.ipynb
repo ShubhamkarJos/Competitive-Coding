{
  "nbformat": 4,
  "nbformat_minor": 0,
  "metadata": {
    "colab": {
      "name": "3sum.ipynb",
      "provenance": []
    },
    "kernelspec": {
      "name": "python3",
      "display_name": "Python 3"
    }
  },
  "cells": [
    {
      "cell_type": "code",
      "metadata": {
        "id": "L0tufjA4L9rC"
      },
      "source": [
        "class Solution:\r\n",
        "    def threeSum(self, A): \r\n",
        "        zSumSet = [] \r\n",
        "        if A.count(0) >= 3: zSumSet.append([0, 0,0]) \r\n",
        "        if len(A) <= 3 or max(A) <= 0: return zSumSet \r\n",
        "        sortA, n = sorted(A), len(A) \r\n",
        "        for i in range(n-1, 1, -1 ): \r\n",
        "            c_idx = i \r\n",
        "            if c_idx != n-1 and sortA[c_idx] == sortA[c_idx+1]:\r\n",
        "                continue \r\n",
        "            if sortA[c_idx] <= 0: break \r\n",
        "            b_idx, a_idx = i-1, 0 \r\n",
        "            while b_idx> a_idx : \r\n",
        "                if sortA[a_idx] + sortA[b_idx] == -sortA[c_idx]:\r\n",
        "                    if (zSumSet == []) or (zSumSet[-1] != \r\n",
        "                       [sortA[a_idx], sortA[b_idx], \r\n",
        "                        sortA[c_idx]]): \r\n",
        "                        zSumSet.append([sortA[a_idx], \r\n",
        "                               sortA[b_idx], sortA[c_idx]]) \r\n",
        "                    b_idx -= 1 \r\n",
        "                    a_idx += 1 \r\n",
        "                elif sortA[a_idx] + sortA[b_idx]> -sortA[c_idx]: \r\n",
        "                    b_idx -= 1 \r\n",
        "                else: a_idx += 1 \r\n",
        "        return zSumSet"
      ],
      "execution_count": null,
      "outputs": []
    }
  ]
}