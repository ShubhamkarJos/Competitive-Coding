{
  "nbformat": 4,
  "nbformat_minor": 0,
  "metadata": {
    "colab": {
      "name": "Longest Substring Without Repeating Characters.ipynb",
      "provenance": []
    },
    "kernelspec": {
      "name": "python3",
      "display_name": "Python 3"
    }
  },
  "cells": [
    {
      "cell_type": "code",
      "metadata": {
        "id": "itDfdoMucADC"
      },
      "source": [
        "class Solution:\r\n",
        "    def lengthOfLongestSubstring(self, s: str) -> int:\r\n",
        "        if len(s) == 0: return 0\r\n",
        "        start = maxLength = 0\r\n",
        "        usedChars = {}\r\n",
        "        for i in range(len(s)):\r\n",
        "            if s[i] in usedChars and start <= usedChars[s[i]]:\r\n",
        "                start = usedChars[s[i]] + 1\r\n",
        "            else:\r\n",
        "                maxLength = max(maxLength, i - start + 1)\r\n",
        "            usedChars[s[i]] = i\r\n",
        "        return maxLength      "
      ],
      "execution_count": null,
      "outputs": []
    }
  ]
}