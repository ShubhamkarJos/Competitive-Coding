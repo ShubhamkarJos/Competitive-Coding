{
  "nbformat": 4,
  "nbformat_minor": 0,
  "metadata": {
    "colab": {
      "name": "Median of 2 sorted arrays.ipynb",
      "provenance": [],
      "collapsed_sections": []
    },
    "kernelspec": {
      "name": "python3",
      "display_name": "Python 3"
    }
  },
  "cells": [
    {
      "cell_type": "code",
      "metadata": {
        "id": "iwXpqVKZ4_p-"
      },
      "source": [
        "class Solution:\r\n",
        "    def findMedianSortedArrays(self, nums1: List[int], nums2: List[int]) -> float:\r\n",
        "        \r\n",
        "        for i in nums2:\r\n",
        "            nums1.append(i)\r\n",
        "        import statistics\r\n",
        "        return statistics.median(nums1)"
      ],
      "execution_count": null,
      "outputs": []
    }
  ]
}