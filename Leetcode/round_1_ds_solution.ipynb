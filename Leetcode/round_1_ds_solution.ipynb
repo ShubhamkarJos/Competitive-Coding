{
  "nbformat": 4,
  "nbformat_minor": 0,
  "metadata": {
    "kernelspec": {
      "name": "python3",
      "display_name": "Python 3",
      "language": "python"
    },
    "language_info": {
      "name": "python",
      "version": "3.7.9",
      "mimetype": "text/x-python",
      "codemirror_mode": {
        "name": "ipython",
        "version": 3
      },
      "pygments_lexer": "ipython3",
      "nbconvert_exporter": "python",
      "file_extension": ".py"
    },
    "colab": {
      "name": "round-1-ds_solution.ipynb",
      "provenance": []
    }
  },
  "cells": [
    {
      "cell_type": "markdown",
      "metadata": {
        "id": "iuhwqizs1eA4"
      },
      "source": [
        "## Data Science and Probability Assignment"
      ]
    },
    {
      "cell_type": "code",
      "metadata": {
        "_uuid": "8f2839f25d086af736a60e9eeb907d3b93b6e0e5",
        "_cell_guid": "b1076dfc-b9ad-4769-8c92-a6c4dae69d19",
        "trusted": true,
        "id": "Kr64rynP1eBB"
      },
      "source": [
        "import numpy as np # linear algebra\n",
        "import pandas as pd # data processing, CSV file I/O (e.g. pd.read_csv)\n",
        "import os\n",
        "for dirname, _, filenames in os.walk('/kaggle/input'):\n",
        "    for filename in filenames:\n",
        "        print(os.path.join(dirname, filename))\n"
      ],
      "execution_count": 1,
      "outputs": []
    },
    {
      "cell_type": "code",
      "metadata": {
        "trusted": true,
        "id": "SBQ2v8TF1eBD"
      },
      "source": [
        "text_doc = [\"Glowing review overall, and some really interesting side-by-side \",\n",
        "           \"photography tests pitting the iPhone 11 Pro against the \",\n",
        "           \"Galaxy Note 10 Plus and last year’s iPhone XS and Google Pixel 3.\",\n",
        "           \"iphone vs samsung who will win ?\",\n",
        "           \"I am huge fan of galaxy note\",\n",
        "           \"first of all test buy iphone for good comparison\"]\n",
        "\n",
        "user= ['rohan','raj','danish','karan','vivek','madhav']\n",
        "\n",
        "entity= ['android','iPhone','galaxy','tab','galaxy','iphone']\n",
        "\n",
        "### join approach + nulls"
      ],
      "execution_count": 2,
      "outputs": []
    },
    {
      "cell_type": "markdown",
      "metadata": {
        "trusted": true,
        "id": "qi1AF9cx1eBD"
      },
      "source": [
        ""
      ]
    },
    {
      "cell_type": "code",
      "metadata": {
        "trusted": true,
        "id": "_RnN5won1eBE"
      },
      "source": [
        "review_data = pd.DataFrame(zip(text_doc,user,entity),columns=['review','user','entity'])"
      ],
      "execution_count": 3,
      "outputs": []
    },
    {
      "cell_type": "code",
      "metadata": {
        "trusted": true,
        "colab": {
          "base_uri": "https://localhost:8080/",
          "height": 227
        },
        "id": "csW8x2ng1eBE",
        "outputId": "85a3485e-24bd-40c3-c83c-4a3fe50449c0"
      },
      "source": [
        "review_data"
      ],
      "execution_count": 4,
      "outputs": [
        {
          "output_type": "execute_result",
          "data": {
            "text/html": [
              "<div>\n",
              "<style scoped>\n",
              "    .dataframe tbody tr th:only-of-type {\n",
              "        vertical-align: middle;\n",
              "    }\n",
              "\n",
              "    .dataframe tbody tr th {\n",
              "        vertical-align: top;\n",
              "    }\n",
              "\n",
              "    .dataframe thead th {\n",
              "        text-align: right;\n",
              "    }\n",
              "</style>\n",
              "<table border=\"1\" class=\"dataframe\">\n",
              "  <thead>\n",
              "    <tr style=\"text-align: right;\">\n",
              "      <th></th>\n",
              "      <th>review</th>\n",
              "      <th>user</th>\n",
              "      <th>entity</th>\n",
              "    </tr>\n",
              "  </thead>\n",
              "  <tbody>\n",
              "    <tr>\n",
              "      <th>0</th>\n",
              "      <td>Glowing review overall, and some really intere...</td>\n",
              "      <td>rohan</td>\n",
              "      <td>android</td>\n",
              "    </tr>\n",
              "    <tr>\n",
              "      <th>1</th>\n",
              "      <td>photography tests pitting the iPhone 11 Pro ag...</td>\n",
              "      <td>raj</td>\n",
              "      <td>iPhone</td>\n",
              "    </tr>\n",
              "    <tr>\n",
              "      <th>2</th>\n",
              "      <td>Galaxy Note 10 Plus and last year’s iPhone XS ...</td>\n",
              "      <td>danish</td>\n",
              "      <td>galaxy</td>\n",
              "    </tr>\n",
              "    <tr>\n",
              "      <th>3</th>\n",
              "      <td>iphone vs samsung who will win ?</td>\n",
              "      <td>karan</td>\n",
              "      <td>tab</td>\n",
              "    </tr>\n",
              "    <tr>\n",
              "      <th>4</th>\n",
              "      <td>I am huge fan of galaxy note</td>\n",
              "      <td>vivek</td>\n",
              "      <td>galaxy</td>\n",
              "    </tr>\n",
              "    <tr>\n",
              "      <th>5</th>\n",
              "      <td>first of all test buy iphone for good comparison</td>\n",
              "      <td>madhav</td>\n",
              "      <td>iphone</td>\n",
              "    </tr>\n",
              "  </tbody>\n",
              "</table>\n",
              "</div>"
            ],
            "text/plain": [
              "                                              review    user   entity\n",
              "0  Glowing review overall, and some really intere...   rohan  android\n",
              "1  photography tests pitting the iPhone 11 Pro ag...     raj   iPhone\n",
              "2  Galaxy Note 10 Plus and last year’s iPhone XS ...  danish   galaxy\n",
              "3                   iphone vs samsung who will win ?   karan      tab\n",
              "4                       I am huge fan of galaxy note   vivek   galaxy\n",
              "5   first of all test buy iphone for good comparison  madhav   iphone"
            ]
          },
          "metadata": {
            "tags": []
          },
          "execution_count": 4
        }
      ]
    },
    {
      "cell_type": "code",
      "metadata": {
        "trusted": true,
        "id": "d7WMrPux1eBF"
      },
      "source": [
        "user= ['rohan','rohan', 'rohan', 'raj','raj','danish','danish','karan','vivek','vivek','vivek','madhav']\n",
        "year = [2019,2020,2021,2020,2021,2018,2021,2020,2021,2019,2020,2019]\n",
        "os = ['apple','android','windows','apple','android','windows','apple','android','apple','apple','windows','windows']\n",
        "user_data = pd.DataFrame(zip(user,year,os),columns=['userName','year','os'])"
      ],
      "execution_count": 5,
      "outputs": []
    },
    {
      "cell_type": "code",
      "metadata": {
        "trusted": true,
        "colab": {
          "base_uri": "https://localhost:8080/",
          "height": 407
        },
        "id": "ycWy6ldq1eBF",
        "outputId": "3dea42cf-1bfa-404d-9fb3-28d09bf0e9a3"
      },
      "source": [
        "user_data"
      ],
      "execution_count": 7,
      "outputs": [
        {
          "output_type": "execute_result",
          "data": {
            "text/html": [
              "<div>\n",
              "<style scoped>\n",
              "    .dataframe tbody tr th:only-of-type {\n",
              "        vertical-align: middle;\n",
              "    }\n",
              "\n",
              "    .dataframe tbody tr th {\n",
              "        vertical-align: top;\n",
              "    }\n",
              "\n",
              "    .dataframe thead th {\n",
              "        text-align: right;\n",
              "    }\n",
              "</style>\n",
              "<table border=\"1\" class=\"dataframe\">\n",
              "  <thead>\n",
              "    <tr style=\"text-align: right;\">\n",
              "      <th></th>\n",
              "      <th>userName</th>\n",
              "      <th>year</th>\n",
              "      <th>os</th>\n",
              "    </tr>\n",
              "  </thead>\n",
              "  <tbody>\n",
              "    <tr>\n",
              "      <th>0</th>\n",
              "      <td>rohan</td>\n",
              "      <td>2019</td>\n",
              "      <td>apple</td>\n",
              "    </tr>\n",
              "    <tr>\n",
              "      <th>1</th>\n",
              "      <td>rohan</td>\n",
              "      <td>2020</td>\n",
              "      <td>android</td>\n",
              "    </tr>\n",
              "    <tr>\n",
              "      <th>2</th>\n",
              "      <td>rohan</td>\n",
              "      <td>2021</td>\n",
              "      <td>windows</td>\n",
              "    </tr>\n",
              "    <tr>\n",
              "      <th>3</th>\n",
              "      <td>raj</td>\n",
              "      <td>2020</td>\n",
              "      <td>apple</td>\n",
              "    </tr>\n",
              "    <tr>\n",
              "      <th>4</th>\n",
              "      <td>raj</td>\n",
              "      <td>2021</td>\n",
              "      <td>android</td>\n",
              "    </tr>\n",
              "    <tr>\n",
              "      <th>5</th>\n",
              "      <td>danish</td>\n",
              "      <td>2018</td>\n",
              "      <td>windows</td>\n",
              "    </tr>\n",
              "    <tr>\n",
              "      <th>6</th>\n",
              "      <td>danish</td>\n",
              "      <td>2021</td>\n",
              "      <td>apple</td>\n",
              "    </tr>\n",
              "    <tr>\n",
              "      <th>7</th>\n",
              "      <td>karan</td>\n",
              "      <td>2020</td>\n",
              "      <td>android</td>\n",
              "    </tr>\n",
              "    <tr>\n",
              "      <th>8</th>\n",
              "      <td>vivek</td>\n",
              "      <td>2021</td>\n",
              "      <td>apple</td>\n",
              "    </tr>\n",
              "    <tr>\n",
              "      <th>9</th>\n",
              "      <td>vivek</td>\n",
              "      <td>2019</td>\n",
              "      <td>apple</td>\n",
              "    </tr>\n",
              "    <tr>\n",
              "      <th>10</th>\n",
              "      <td>vivek</td>\n",
              "      <td>2020</td>\n",
              "      <td>windows</td>\n",
              "    </tr>\n",
              "    <tr>\n",
              "      <th>11</th>\n",
              "      <td>madhav</td>\n",
              "      <td>2019</td>\n",
              "      <td>windows</td>\n",
              "    </tr>\n",
              "  </tbody>\n",
              "</table>\n",
              "</div>"
            ],
            "text/plain": [
              "   userName  year       os\n",
              "0     rohan  2019    apple\n",
              "1     rohan  2020  android\n",
              "2     rohan  2021  windows\n",
              "3       raj  2020    apple\n",
              "4       raj  2021  android\n",
              "5    danish  2018  windows\n",
              "6    danish  2021    apple\n",
              "7     karan  2020  android\n",
              "8     vivek  2021    apple\n",
              "9     vivek  2019    apple\n",
              "10    vivek  2020  windows\n",
              "11   madhav  2019  windows"
            ]
          },
          "metadata": {
            "tags": []
          },
          "execution_count": 7
        }
      ]
    },
    {
      "cell_type": "markdown",
      "metadata": {
        "id": "rAu0ej1U1eBG"
      },
      "source": [
        "###### Q1 Combine User and review data in order to get the latest year and OS used by each user for the review?"
      ]
    },
    {
      "cell_type": "code",
      "metadata": {
        "id": "ci-0snpH2yhx"
      },
      "source": [
        "import pandas as pd"
      ],
      "execution_count": 12,
      "outputs": []
    },
    {
      "cell_type": "code",
      "metadata": {
        "trusted": true,
        "id": "YtBZA4E91eBG"
      },
      "source": [
        "data = pd.merge(user_data,review_data, left_on='userName', right_on='user')"
      ],
      "execution_count": 13,
      "outputs": []
    },
    {
      "cell_type": "code",
      "metadata": {
        "colab": {
          "base_uri": "https://localhost:8080/",
          "height": 407
        },
        "id": "JWw4JXKT17jj",
        "outputId": "efb39592-4623-4a6e-ff87-330c9669d3c3"
      },
      "source": [
        "data"
      ],
      "execution_count": 14,
      "outputs": [
        {
          "output_type": "execute_result",
          "data": {
            "text/html": [
              "<div>\n",
              "<style scoped>\n",
              "    .dataframe tbody tr th:only-of-type {\n",
              "        vertical-align: middle;\n",
              "    }\n",
              "\n",
              "    .dataframe tbody tr th {\n",
              "        vertical-align: top;\n",
              "    }\n",
              "\n",
              "    .dataframe thead th {\n",
              "        text-align: right;\n",
              "    }\n",
              "</style>\n",
              "<table border=\"1\" class=\"dataframe\">\n",
              "  <thead>\n",
              "    <tr style=\"text-align: right;\">\n",
              "      <th></th>\n",
              "      <th>userName</th>\n",
              "      <th>year</th>\n",
              "      <th>os</th>\n",
              "      <th>review</th>\n",
              "      <th>user</th>\n",
              "      <th>entity</th>\n",
              "    </tr>\n",
              "  </thead>\n",
              "  <tbody>\n",
              "    <tr>\n",
              "      <th>0</th>\n",
              "      <td>rohan</td>\n",
              "      <td>2019</td>\n",
              "      <td>apple</td>\n",
              "      <td>Glowing review overall, and some really intere...</td>\n",
              "      <td>rohan</td>\n",
              "      <td>android</td>\n",
              "    </tr>\n",
              "    <tr>\n",
              "      <th>1</th>\n",
              "      <td>rohan</td>\n",
              "      <td>2020</td>\n",
              "      <td>android</td>\n",
              "      <td>Glowing review overall, and some really intere...</td>\n",
              "      <td>rohan</td>\n",
              "      <td>android</td>\n",
              "    </tr>\n",
              "    <tr>\n",
              "      <th>2</th>\n",
              "      <td>rohan</td>\n",
              "      <td>2021</td>\n",
              "      <td>windows</td>\n",
              "      <td>Glowing review overall, and some really intere...</td>\n",
              "      <td>rohan</td>\n",
              "      <td>android</td>\n",
              "    </tr>\n",
              "    <tr>\n",
              "      <th>3</th>\n",
              "      <td>raj</td>\n",
              "      <td>2020</td>\n",
              "      <td>apple</td>\n",
              "      <td>photography tests pitting the iPhone 11 Pro ag...</td>\n",
              "      <td>raj</td>\n",
              "      <td>iPhone</td>\n",
              "    </tr>\n",
              "    <tr>\n",
              "      <th>4</th>\n",
              "      <td>raj</td>\n",
              "      <td>2021</td>\n",
              "      <td>android</td>\n",
              "      <td>photography tests pitting the iPhone 11 Pro ag...</td>\n",
              "      <td>raj</td>\n",
              "      <td>iPhone</td>\n",
              "    </tr>\n",
              "    <tr>\n",
              "      <th>5</th>\n",
              "      <td>danish</td>\n",
              "      <td>2018</td>\n",
              "      <td>windows</td>\n",
              "      <td>Galaxy Note 10 Plus and last year’s iPhone XS ...</td>\n",
              "      <td>danish</td>\n",
              "      <td>galaxy</td>\n",
              "    </tr>\n",
              "    <tr>\n",
              "      <th>6</th>\n",
              "      <td>danish</td>\n",
              "      <td>2021</td>\n",
              "      <td>apple</td>\n",
              "      <td>Galaxy Note 10 Plus and last year’s iPhone XS ...</td>\n",
              "      <td>danish</td>\n",
              "      <td>galaxy</td>\n",
              "    </tr>\n",
              "    <tr>\n",
              "      <th>7</th>\n",
              "      <td>karan</td>\n",
              "      <td>2020</td>\n",
              "      <td>android</td>\n",
              "      <td>iphone vs samsung who will win ?</td>\n",
              "      <td>karan</td>\n",
              "      <td>tab</td>\n",
              "    </tr>\n",
              "    <tr>\n",
              "      <th>8</th>\n",
              "      <td>vivek</td>\n",
              "      <td>2021</td>\n",
              "      <td>apple</td>\n",
              "      <td>I am huge fan of galaxy note</td>\n",
              "      <td>vivek</td>\n",
              "      <td>galaxy</td>\n",
              "    </tr>\n",
              "    <tr>\n",
              "      <th>9</th>\n",
              "      <td>vivek</td>\n",
              "      <td>2019</td>\n",
              "      <td>apple</td>\n",
              "      <td>I am huge fan of galaxy note</td>\n",
              "      <td>vivek</td>\n",
              "      <td>galaxy</td>\n",
              "    </tr>\n",
              "    <tr>\n",
              "      <th>10</th>\n",
              "      <td>vivek</td>\n",
              "      <td>2020</td>\n",
              "      <td>windows</td>\n",
              "      <td>I am huge fan of galaxy note</td>\n",
              "      <td>vivek</td>\n",
              "      <td>galaxy</td>\n",
              "    </tr>\n",
              "    <tr>\n",
              "      <th>11</th>\n",
              "      <td>madhav</td>\n",
              "      <td>2019</td>\n",
              "      <td>windows</td>\n",
              "      <td>first of all test buy iphone for good comparison</td>\n",
              "      <td>madhav</td>\n",
              "      <td>iphone</td>\n",
              "    </tr>\n",
              "  </tbody>\n",
              "</table>\n",
              "</div>"
            ],
            "text/plain": [
              "   userName  year  ...    user   entity\n",
              "0     rohan  2019  ...   rohan  android\n",
              "1     rohan  2020  ...   rohan  android\n",
              "2     rohan  2021  ...   rohan  android\n",
              "3       raj  2020  ...     raj   iPhone\n",
              "4       raj  2021  ...     raj   iPhone\n",
              "5    danish  2018  ...  danish   galaxy\n",
              "6    danish  2021  ...  danish   galaxy\n",
              "7     karan  2020  ...   karan      tab\n",
              "8     vivek  2021  ...   vivek   galaxy\n",
              "9     vivek  2019  ...   vivek   galaxy\n",
              "10    vivek  2020  ...   vivek   galaxy\n",
              "11   madhav  2019  ...  madhav   iphone\n",
              "\n",
              "[12 rows x 6 columns]"
            ]
          },
          "metadata": {
            "tags": []
          },
          "execution_count": 14
        }
      ]
    },
    {
      "cell_type": "code",
      "metadata": {
        "id": "JGZjP4dD3jqQ"
      },
      "source": [
        "data1 = data.sort_values(by=['year'])"
      ],
      "execution_count": 18,
      "outputs": []
    },
    {
      "cell_type": "code",
      "metadata": {
        "colab": {
          "base_uri": "https://localhost:8080/",
          "height": 227
        },
        "id": "Zn428mxi3HTk",
        "outputId": "0efc2a6d-a761-4b90-e69d-54743e5458a1"
      },
      "source": [
        "data1.drop_duplicates(subset='user', keep='last')"
      ],
      "execution_count": 19,
      "outputs": [
        {
          "output_type": "execute_result",
          "data": {
            "text/html": [
              "<div>\n",
              "<style scoped>\n",
              "    .dataframe tbody tr th:only-of-type {\n",
              "        vertical-align: middle;\n",
              "    }\n",
              "\n",
              "    .dataframe tbody tr th {\n",
              "        vertical-align: top;\n",
              "    }\n",
              "\n",
              "    .dataframe thead th {\n",
              "        text-align: right;\n",
              "    }\n",
              "</style>\n",
              "<table border=\"1\" class=\"dataframe\">\n",
              "  <thead>\n",
              "    <tr style=\"text-align: right;\">\n",
              "      <th></th>\n",
              "      <th>userName</th>\n",
              "      <th>year</th>\n",
              "      <th>os</th>\n",
              "      <th>review</th>\n",
              "      <th>user</th>\n",
              "      <th>entity</th>\n",
              "    </tr>\n",
              "  </thead>\n",
              "  <tbody>\n",
              "    <tr>\n",
              "      <th>11</th>\n",
              "      <td>madhav</td>\n",
              "      <td>2019</td>\n",
              "      <td>windows</td>\n",
              "      <td>first of all test buy iphone for good comparison</td>\n",
              "      <td>madhav</td>\n",
              "      <td>iphone</td>\n",
              "    </tr>\n",
              "    <tr>\n",
              "      <th>7</th>\n",
              "      <td>karan</td>\n",
              "      <td>2020</td>\n",
              "      <td>android</td>\n",
              "      <td>iphone vs samsung who will win ?</td>\n",
              "      <td>karan</td>\n",
              "      <td>tab</td>\n",
              "    </tr>\n",
              "    <tr>\n",
              "      <th>2</th>\n",
              "      <td>rohan</td>\n",
              "      <td>2021</td>\n",
              "      <td>windows</td>\n",
              "      <td>Glowing review overall, and some really intere...</td>\n",
              "      <td>rohan</td>\n",
              "      <td>android</td>\n",
              "    </tr>\n",
              "    <tr>\n",
              "      <th>4</th>\n",
              "      <td>raj</td>\n",
              "      <td>2021</td>\n",
              "      <td>android</td>\n",
              "      <td>photography tests pitting the iPhone 11 Pro ag...</td>\n",
              "      <td>raj</td>\n",
              "      <td>iPhone</td>\n",
              "    </tr>\n",
              "    <tr>\n",
              "      <th>6</th>\n",
              "      <td>danish</td>\n",
              "      <td>2021</td>\n",
              "      <td>apple</td>\n",
              "      <td>Galaxy Note 10 Plus and last year’s iPhone XS ...</td>\n",
              "      <td>danish</td>\n",
              "      <td>galaxy</td>\n",
              "    </tr>\n",
              "    <tr>\n",
              "      <th>8</th>\n",
              "      <td>vivek</td>\n",
              "      <td>2021</td>\n",
              "      <td>apple</td>\n",
              "      <td>I am huge fan of galaxy note</td>\n",
              "      <td>vivek</td>\n",
              "      <td>galaxy</td>\n",
              "    </tr>\n",
              "  </tbody>\n",
              "</table>\n",
              "</div>"
            ],
            "text/plain": [
              "   userName  year  ...    user   entity\n",
              "11   madhav  2019  ...  madhav   iphone\n",
              "7     karan  2020  ...   karan      tab\n",
              "2     rohan  2021  ...   rohan  android\n",
              "4       raj  2021  ...     raj   iPhone\n",
              "6    danish  2021  ...  danish   galaxy\n",
              "8     vivek  2021  ...   vivek   galaxy\n",
              "\n",
              "[6 rows x 6 columns]"
            ]
          },
          "metadata": {
            "tags": []
          },
          "execution_count": 19
        }
      ]
    },
    {
      "cell_type": "markdown",
      "metadata": {
        "id": "l-DE-WAu1eBI"
      },
      "source": [
        "###### Q2. Generate a new column \"unique number of words in a review\"."
      ]
    },
    {
      "cell_type": "code",
      "metadata": {
        "id": "URV2ulbu4aNx"
      },
      "source": [
        "data['unique'] = data['review'].str.count(' ') + 1"
      ],
      "execution_count": 21,
      "outputs": []
    },
    {
      "cell_type": "code",
      "metadata": {
        "colab": {
          "base_uri": "https://localhost:8080/",
          "height": 407
        },
        "id": "GU-FMq4m9QBq",
        "outputId": "7634a7e0-68eb-4d5b-ddf8-9baf13aa1e69"
      },
      "source": [
        "data"
      ],
      "execution_count": 42,
      "outputs": [
        {
          "output_type": "execute_result",
          "data": {
            "text/html": [
              "<div>\n",
              "<style scoped>\n",
              "    .dataframe tbody tr th:only-of-type {\n",
              "        vertical-align: middle;\n",
              "    }\n",
              "\n",
              "    .dataframe tbody tr th {\n",
              "        vertical-align: top;\n",
              "    }\n",
              "\n",
              "    .dataframe thead th {\n",
              "        text-align: right;\n",
              "    }\n",
              "</style>\n",
              "<table border=\"1\" class=\"dataframe\">\n",
              "  <thead>\n",
              "    <tr style=\"text-align: right;\">\n",
              "      <th></th>\n",
              "      <th>userName</th>\n",
              "      <th>year</th>\n",
              "      <th>os</th>\n",
              "      <th>review</th>\n",
              "      <th>user</th>\n",
              "      <th>entity</th>\n",
              "      <th>unique</th>\n",
              "    </tr>\n",
              "  </thead>\n",
              "  <tbody>\n",
              "    <tr>\n",
              "      <th>0</th>\n",
              "      <td>rohan</td>\n",
              "      <td>2019</td>\n",
              "      <td>apple</td>\n",
              "      <td>Glowing review overall, and some really intere...</td>\n",
              "      <td>rohan</td>\n",
              "      <td>android</td>\n",
              "      <td>9</td>\n",
              "    </tr>\n",
              "    <tr>\n",
              "      <th>1</th>\n",
              "      <td>rohan</td>\n",
              "      <td>2020</td>\n",
              "      <td>android</td>\n",
              "      <td>Glowing review overall, and some really intere...</td>\n",
              "      <td>rohan</td>\n",
              "      <td>android</td>\n",
              "      <td>9</td>\n",
              "    </tr>\n",
              "    <tr>\n",
              "      <th>2</th>\n",
              "      <td>rohan</td>\n",
              "      <td>2021</td>\n",
              "      <td>windows</td>\n",
              "      <td>Glowing review overall, and some really intere...</td>\n",
              "      <td>rohan</td>\n",
              "      <td>android</td>\n",
              "      <td>9</td>\n",
              "    </tr>\n",
              "    <tr>\n",
              "      <th>3</th>\n",
              "      <td>raj</td>\n",
              "      <td>2020</td>\n",
              "      <td>apple</td>\n",
              "      <td>photography tests pitting the iPhone 11 Pro ag...</td>\n",
              "      <td>raj</td>\n",
              "      <td>iPhone</td>\n",
              "      <td>10</td>\n",
              "    </tr>\n",
              "    <tr>\n",
              "      <th>4</th>\n",
              "      <td>raj</td>\n",
              "      <td>2021</td>\n",
              "      <td>android</td>\n",
              "      <td>photography tests pitting the iPhone 11 Pro ag...</td>\n",
              "      <td>raj</td>\n",
              "      <td>iPhone</td>\n",
              "      <td>10</td>\n",
              "    </tr>\n",
              "    <tr>\n",
              "      <th>5</th>\n",
              "      <td>danish</td>\n",
              "      <td>2018</td>\n",
              "      <td>windows</td>\n",
              "      <td>Galaxy Note 10 Plus and last year’s iPhone XS ...</td>\n",
              "      <td>danish</td>\n",
              "      <td>galaxy</td>\n",
              "      <td>13</td>\n",
              "    </tr>\n",
              "    <tr>\n",
              "      <th>6</th>\n",
              "      <td>danish</td>\n",
              "      <td>2021</td>\n",
              "      <td>apple</td>\n",
              "      <td>Galaxy Note 10 Plus and last year’s iPhone XS ...</td>\n",
              "      <td>danish</td>\n",
              "      <td>galaxy</td>\n",
              "      <td>13</td>\n",
              "    </tr>\n",
              "    <tr>\n",
              "      <th>7</th>\n",
              "      <td>karan</td>\n",
              "      <td>2020</td>\n",
              "      <td>android</td>\n",
              "      <td>iphone vs samsung who will win ?</td>\n",
              "      <td>karan</td>\n",
              "      <td>tab</td>\n",
              "      <td>7</td>\n",
              "    </tr>\n",
              "    <tr>\n",
              "      <th>8</th>\n",
              "      <td>vivek</td>\n",
              "      <td>2021</td>\n",
              "      <td>apple</td>\n",
              "      <td>I am huge fan of galaxy note</td>\n",
              "      <td>vivek</td>\n",
              "      <td>galaxy</td>\n",
              "      <td>7</td>\n",
              "    </tr>\n",
              "    <tr>\n",
              "      <th>9</th>\n",
              "      <td>vivek</td>\n",
              "      <td>2019</td>\n",
              "      <td>apple</td>\n",
              "      <td>I am huge fan of galaxy note</td>\n",
              "      <td>vivek</td>\n",
              "      <td>galaxy</td>\n",
              "      <td>7</td>\n",
              "    </tr>\n",
              "    <tr>\n",
              "      <th>10</th>\n",
              "      <td>vivek</td>\n",
              "      <td>2020</td>\n",
              "      <td>windows</td>\n",
              "      <td>I am huge fan of galaxy note</td>\n",
              "      <td>vivek</td>\n",
              "      <td>galaxy</td>\n",
              "      <td>7</td>\n",
              "    </tr>\n",
              "    <tr>\n",
              "      <th>11</th>\n",
              "      <td>madhav</td>\n",
              "      <td>2019</td>\n",
              "      <td>windows</td>\n",
              "      <td>first of all test buy iphone for good comparison</td>\n",
              "      <td>madhav</td>\n",
              "      <td>iphone</td>\n",
              "      <td>9</td>\n",
              "    </tr>\n",
              "  </tbody>\n",
              "</table>\n",
              "</div>"
            ],
            "text/plain": [
              "   userName  year       os  ...    user   entity unique\n",
              "0     rohan  2019    apple  ...   rohan  android      9\n",
              "1     rohan  2020  android  ...   rohan  android      9\n",
              "2     rohan  2021  windows  ...   rohan  android      9\n",
              "3       raj  2020    apple  ...     raj   iPhone     10\n",
              "4       raj  2021  android  ...     raj   iPhone     10\n",
              "5    danish  2018  windows  ...  danish   galaxy     13\n",
              "6    danish  2021    apple  ...  danish   galaxy     13\n",
              "7     karan  2020  android  ...   karan      tab      7\n",
              "8     vivek  2021    apple  ...   vivek   galaxy      7\n",
              "9     vivek  2019    apple  ...   vivek   galaxy      7\n",
              "10    vivek  2020  windows  ...   vivek   galaxy      7\n",
              "11   madhav  2019  windows  ...  madhav   iphone      9\n",
              "\n",
              "[12 rows x 7 columns]"
            ]
          },
          "metadata": {
            "tags": []
          },
          "execution_count": 42
        }
      ]
    },
    {
      "cell_type": "code",
      "metadata": {
        "id": "NVrfnNfF9URj"
      },
      "source": [
        "txt = data['review'].tolist()"
      ],
      "execution_count": 43,
      "outputs": []
    },
    {
      "cell_type": "code",
      "metadata": {
        "colab": {
          "base_uri": "https://localhost:8080/"
        },
        "id": "uzwOJeeb9b7u",
        "outputId": "49996824-fddb-48ca-9fc3-a72d39c558c7"
      },
      "source": [
        "txt"
      ],
      "execution_count": 47,
      "outputs": [
        {
          "output_type": "execute_result",
          "data": {
            "text/plain": [
              "['Glowing review overall, and some really interesting side-by-side ',\n",
              " 'Glowing review overall, and some really interesting side-by-side ',\n",
              " 'Glowing review overall, and some really interesting side-by-side ',\n",
              " 'photography tests pitting the iPhone 11 Pro against the ',\n",
              " 'photography tests pitting the iPhone 11 Pro against the ',\n",
              " 'Galaxy Note 10 Plus and last year’s iPhone XS and Google Pixel 3.',\n",
              " 'Galaxy Note 10 Plus and last year’s iPhone XS and Google Pixel 3.',\n",
              " 'iphone vs samsung who will win ?',\n",
              " 'I am huge fan of galaxy note',\n",
              " 'I am huge fan of galaxy note',\n",
              " 'I am huge fan of galaxy note',\n",
              " 'first of all test buy iphone for good comparison']"
            ]
          },
          "metadata": {
            "tags": []
          },
          "execution_count": 47
        }
      ]
    },
    {
      "cell_type": "code",
      "metadata": {
        "id": "YhazcKxN4mKS"
      },
      "source": [
        "uniq = data['unique'].tolist()"
      ],
      "execution_count": 40,
      "outputs": []
    },
    {
      "cell_type": "code",
      "metadata": {
        "colab": {
          "base_uri": "https://localhost:8080/"
        },
        "id": "0Q3M7PKv9Kq1",
        "outputId": "b288adea-6c47-4320-e99e-655522b97e4d"
      },
      "source": [
        "uniq"
      ],
      "execution_count": 41,
      "outputs": [
        {
          "output_type": "execute_result",
          "data": {
            "text/plain": [
              "[9, 9, 9, 10, 10, 13, 13, 7, 7, 7, 7, 9]"
            ]
          },
          "metadata": {
            "tags": []
          },
          "execution_count": 41
        }
      ]
    },
    {
      "cell_type": "markdown",
      "metadata": {
        "id": "Taf5B_vq1eBL"
      },
      "source": [
        "#### Q4 What is TFIDF vectorization ?\n"
      ]
    },
    {
      "cell_type": "code",
      "metadata": {
        "trusted": true,
        "id": "m5rPiJ6D1eBL"
      },
      "source": [
        "tf - idf is basically a measure that will tell how relevant a word is to a document in a collection of documents"
      ],
      "execution_count": null,
      "outputs": []
    },
    {
      "cell_type": "markdown",
      "metadata": {
        "id": "iOyeMM-W1eBL"
      },
      "source": [
        "#### Q5 What all operations can you perform on string before applying tfidf vectorizer (theory).\n",
        "\n",
        "Perform following operations on string\n",
        "1. lowercase<br>\n",
        "2. remove digits and punct<br>\n",
        "3. remove stopwords<br> "
      ]
    },
    {
      "cell_type": "code",
      "metadata": {
        "trusted": true,
        "id": "vVLxkkYK1eBL"
      },
      "source": [
        "s = \"India\""
      ],
      "execution_count": null,
      "outputs": []
    },
    {
      "cell_type": "code",
      "metadata": {
        "trusted": true,
        "id": "IKHREFNJ1eBL"
      },
      "source": [
        "s.lower()"
      ],
      "execution_count": null,
      "outputs": []
    },
    {
      "cell_type": "code",
      "metadata": {
        "id": "8BJjV5576sMN"
      },
      "source": [
        "import re"
      ],
      "execution_count": 24,
      "outputs": []
    },
    {
      "cell_type": "code",
      "metadata": {
        "trusted": true,
        "colab": {
          "base_uri": "https://localhost:8080/",
          "height": 35
        },
        "id": "wy73NXHy1eBN",
        "outputId": "bb85d567-6bc6-4931-8249-cf3f3a5e56a4"
      },
      "source": [
        "s1 = \" I am 20 years old\"\n",
        "review = re.sub('[^a-zA-Z]', ' ', s1)\n",
        "review"
      ],
      "execution_count": 27,
      "outputs": [
        {
          "output_type": "execute_result",
          "data": {
            "application/vnd.google.colaboratory.intrinsic+json": {
              "type": "string"
            },
            "text/plain": [
              "' I am    years old'"
            ]
          },
          "metadata": {
            "tags": []
          },
          "execution_count": 27
        }
      ]
    },
    {
      "cell_type": "code",
      "metadata": {
        "colab": {
          "base_uri": "https://localhost:8080/"
        },
        "id": "tOeNG85k6446",
        "outputId": "7e390bab-9844-4cc5-c7ff-65902772a46c"
      },
      "source": [
        "import nltk\n",
        "nltk.download('stopwords')\n",
        "from nltk.corpus import stopwords"
      ],
      "execution_count": 34,
      "outputs": [
        {
          "output_type": "stream",
          "text": [
            "[nltk_data] Downloading package stopwords to /root/nltk_data...\n",
            "[nltk_data]   Package stopwords is already up-to-date!\n"
          ],
          "name": "stdout"
        }
      ]
    },
    {
      "cell_type": "code",
      "metadata": {
        "id": "OPsLoBG57Hib"
      },
      "source": [
        "s2 = \"I am not going to visit you anytime soon\"\n",
        "all_stopwords = stopwords.words('english')"
      ],
      "execution_count": 38,
      "outputs": []
    },
    {
      "cell_type": "code",
      "metadata": {
        "colab": {
          "base_uri": "https://localhost:8080/"
        },
        "id": "r2IB9llp717-",
        "outputId": "915fb701-4e72-466f-c09b-c7badd64a886"
      },
      "source": [
        "for word in s2.split(\" \"):\n",
        "  if word not in all_stopwords:\n",
        "    print(word)"
      ],
      "execution_count": 39,
      "outputs": [
        {
          "output_type": "stream",
          "text": [
            "I\n",
            "going\n",
            "visit\n",
            "anytime\n",
            "soon\n"
          ],
          "name": "stdout"
        }
      ]
    },
    {
      "cell_type": "markdown",
      "metadata": {
        "trusted": true,
        "id": "Rj9Rp_Ut1eBN"
      },
      "source": [
        "# Stats"
      ]
    },
    {
      "cell_type": "markdown",
      "metadata": {
        "id": "pvmXencv1eBO"
      },
      "source": [
        "Q. It is estimated that 50% of emails are spam emails. Some software has been applied to filter these spam emails before they reach your inbox. A certain brand of software claims that it can detect 99% of spam emails, and the probability for a false positive (a non-spam email detected as spam) is 5%. Now if an email is detected as spam, then what is the probability that it is in fact a non-spam email?\n",
        " "
      ]
    },
    {
      "cell_type": "code",
      "metadata": {
        "trusted": true,
        "id": "tYXeHC6F1eBO"
      },
      "source": [
        "(1/2)*(99/100)*(1/20)"
      ],
      "execution_count": null,
      "outputs": []
    },
    {
      "cell_type": "markdown",
      "metadata": {
        "id": "7hjLOm7u1eBO"
      },
      "source": [
        "Q Peter and Paula are two persons:\n",
        "Peter randomly rolls a dice once and cuts a square from a sheet of paper with side value = value on dice\n",
        "Paula however rolls the dice twice, and cuts a rectangle with length as first roll value and breadth as second roll value\n",
        "On an average, what is the size of area end up cutting by each person. Are they equal? If not then who cuts the larger area and why?"
      ]
    },
    {
      "cell_type": "code",
      "metadata": {
        "trusted": true,
        "id": "5ZZ7H4cR1eBO"
      },
      "source": [
        "No the average area cut by them are not equal. peter cuts the larger area with an average of 15.16 while paula has an average of 7"
      ],
      "execution_count": null,
      "outputs": []
    }
  ]
}