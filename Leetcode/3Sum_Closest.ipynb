{
  "nbformat": 4,
  "nbformat_minor": 0,
  "metadata": {
    "colab": {
      "name": "3Sum Closest.ipynb",
      "provenance": []
    },
    "kernelspec": {
      "name": "python3",
      "display_name": "Python 3"
    }
  },
  "cells": [
    {
      "cell_type": "code",
      "metadata": {
        "id": "itDfdoMucADC"
      },
      "source": [
        "class Solution:\r\n",
        "    def threeSumClosest(self, nums: List[int], target: int) -> int:\r\n",
        "        three_close_sum = sys.maxsize\r\n",
        "        nums = sorted(nums)\r\n",
        "        for i in range(len(nums)):\r\n",
        "            l = i+1\r\n",
        "            r = len(nums) - 1\r\n",
        "            while l < r:\r\n",
        "                summation = nums[i] + nums[l] + nums[r]\r\n",
        "                if abs(summation - target) < abs(three_close_sum - target):\r\n",
        "                    three_close_sum = summation    \r\n",
        "                if summation <= target:\r\n",
        "                    l = l + 1\r\n",
        "                else:\r\n",
        "                    r-=1       \r\n",
        "        return three_close_sum\r\n",
        "                    \r\n",
        "        "
      ],
      "execution_count": null,
      "outputs": []
    }
  ]
}