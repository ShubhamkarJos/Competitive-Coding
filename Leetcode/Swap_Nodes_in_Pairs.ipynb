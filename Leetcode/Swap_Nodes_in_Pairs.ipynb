{
  "nbformat": 4,
  "nbformat_minor": 0,
  "metadata": {
    "colab": {
      "name": "Swap Nodes in Pairs.ipynb",
      "provenance": []
    },
    "kernelspec": {
      "name": "python3",
      "display_name": "Python 3"
    }
  },
  "cells": [
    {
      "cell_type": "code",
      "metadata": {
        "id": "pe5B2uxb4_UL"
      },
      "source": [
        "# Definition for singly-linked list.\r\n",
        "# class ListNode:\r\n",
        "#     def __init__(self, val=0, next=None):\r\n",
        "#         self.val = val\r\n",
        "#         self.next = next\r\n",
        "class Solution:\r\n",
        "    def swapPairs(self, head: ListNode) -> ListNode:\r\n",
        "        if head is None or head.next is None:\r\n",
        "            return head\r\n",
        "        curr = head\r\n",
        "        prev = None\r\n",
        "        \r\n",
        "        while curr and curr.next:\r\n",
        "            temp = curr.next\r\n",
        "            curr.next = temp.next\r\n",
        "            temp.next = curr\r\n",
        "            \r\n",
        "            if prev is None:\r\n",
        "                head = temp\r\n",
        "            else:\r\n",
        "                prev.next = temp\r\n",
        "                \r\n",
        "            prev = curr\r\n",
        "            curr = curr.next\r\n",
        "        return head"
      ],
      "execution_count": null,
      "outputs": []
    }
  ]
}