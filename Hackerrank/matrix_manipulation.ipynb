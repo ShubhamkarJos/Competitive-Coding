{
  "nbformat": 4,
  "nbformat_minor": 0,
  "metadata": {
    "colab": {
      "name": "matrix_manipulation.ipynb",
      "provenance": [],
      "collapsed_sections": []
    },
    "kernelspec": {
      "name": "python3",
      "display_name": "Python 3"
    }
  },
  "cells": [
    {
      "cell_type": "code",
      "metadata": {
        "id": "h0cm09lSYfx_",
        "outputId": "818b22d1-12c7-4484-d4a7-abe0237986a4",
        "colab": {
          "base_uri": "https://localhost:8080/"
        }
      },
      "source": [
        "a = [int(i) for i in input().split()][:2]\n",
        "arr = [0]*(a[0]+1)\n",
        "\n",
        "queries = []\n",
        "for i in range(0,a[1]):\n",
        "    lst = [int(i) for i in input().split()][:3]\n",
        "    queries.append(lst)\n",
        "    \n",
        "\n",
        "for i in range(0,a[1]):\n",
        "    for k in range(queries[i][0],queries[i][1]+1):\n",
        "        arr[k] = arr[k] + queries[i][2]\n",
        "        \n",
        "max = -999\n",
        "for i in range(0,a[0]):\n",
        "    if arr[i] > max:\n",
        "        max = arr[i]\n",
        "        \n",
        "print(max)\n",
        "        "
      ],
      "execution_count": 11,
      "outputs": [
        {
          "output_type": "stream",
          "text": [
            "10 4\n",
            "2 6 8\n",
            "3 5 7\n",
            "1 8 1\n",
            "5 9 15\n",
            "31\n"
          ],
          "name": "stdout"
        }
      ]
    },
    {
      "cell_type": "code",
      "metadata": {
        "id": "2uMYcIg1hBbN"
      },
      "source": [
        "def arrayManipulation(n, queries):\n",
        "    arr = [0]*n\n",
        "    for i in queries:\n",
        "        arr[i[0] - 1] += i[2]\n",
        "        if i[1] != len(arr):\n",
        "            arr[i[1]] -= i[2]\n",
        "    maxval = 0\n",
        "    itt = 0\n",
        "    print(arr)\n",
        "    for q in arr:\n",
        "        itt += q\n",
        "        if itt > maxval:\n",
        "            maxval = itt\n",
        "    return maxval"
      ],
      "execution_count": null,
      "outputs": []
    }
  ]
}