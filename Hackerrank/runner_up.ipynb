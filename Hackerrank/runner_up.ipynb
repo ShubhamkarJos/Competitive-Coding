{
  "nbformat": 4,
  "nbformat_minor": 0,
  "metadata": {
    "colab": {
      "name": "runner_up.ipynb",
      "provenance": [],
      "collapsed_sections": []
    },
    "kernelspec": {
      "name": "python3",
      "display_name": "Python 3"
    }
  },
  "cells": [
    {
      "cell_type": "markdown",
      "metadata": {
        "id": "oMVGcEJvTo4-",
        "colab_type": "text"
      },
      "source": [
        "Given the participants' score sheet for your University Sports Day, you are required to find the runner-up score. You are given n scores. Store them in a list and find the score of the runner-up."
      ]
    },
    {
      "cell_type": "code",
      "metadata": {
        "id": "3FbVVTIzPrPM",
        "colab_type": "code",
        "colab": {
          "base_uri": "https://localhost:8080/",
          "height": 102
        },
        "outputId": "a95e21bd-4fb3-4483-f621-ee9013d17294"
      },
      "source": [
        "if __name__ == '__main__':\n",
        "    n = int(input())\n",
        "    arr = []\n",
        "    for i in range (0,n):\n",
        "      value = int(input())\n",
        "      arr.append(value)\n",
        "    \n",
        "    arr.sort()\n",
        "    \n",
        "  \n"
      ],
      "execution_count": 3,
      "outputs": [
        {
          "output_type": "stream",
          "text": [
            "3\n",
            "9\n",
            "2\n",
            "7\n",
            "[2, 7, 9]\n"
          ],
          "name": "stdout"
        }
      ]
    },
    {
      "cell_type": "code",
      "metadata": {
        "id": "sY7E3zmfeSdr",
        "colab_type": "code",
        "colab": {
          "base_uri": "https://localhost:8080/",
          "height": 34
        },
        "outputId": "a6540eaa-1e77-4a2d-d260-046cf7e56542"
      },
      "source": [
        "last = arr[-1]\n"
      ],
      "execution_count": 5,
      "outputs": [
        {
          "output_type": "stream",
          "text": [
            "9\n"
          ],
          "name": "stdout"
        }
      ]
    },
    {
      "cell_type": "code",
      "metadata": {
        "id": "Q0IUurNvea8T",
        "colab_type": "code",
        "colab": {
          "base_uri": "https://localhost:8080/",
          "height": 34
        },
        "outputId": "39114d16-ba0e-4b24-82d6-a0edd8200ea1"
      },
      "source": [
        "for i in range(n-1,0,-1):\n",
        "  if arr[i] != last:\n",
        "    print(arr[i])\n",
        "  \n"
      ],
      "execution_count": 7,
      "outputs": [
        {
          "output_type": "stream",
          "text": [
            "7\n"
          ],
          "name": "stdout"
        }
      ]
    },
    {
      "cell_type": "code",
      "metadata": {
        "id": "lgZTf3nGfiiU",
        "colab_type": "code",
        "colab": {
          "base_uri": "https://localhost:8080/",
          "height": 68
        },
        "outputId": "a15279c1-b2d3-4cd0-b559-72333f6c8484"
      },
      "source": [
        "if __name__==\"__main__\":\n",
        "    n = int(input())\n",
        "    arr = map(int, input().split())\n",
        "    arr = list(set(list(arr)))\n",
        "    ar = len(arr)\n",
        "    arr = sorted(arr)\n",
        "    print(arr[ar-2])"
      ],
      "execution_count": 13,
      "outputs": [
        {
          "output_type": "stream",
          "text": [
            "4\n",
            "9 9 9 4\n",
            "4\n"
          ],
          "name": "stdout"
        }
      ]
    }
  ]
}