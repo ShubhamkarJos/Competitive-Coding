{
  "nbformat": 4,
  "nbformat_minor": 0,
  "metadata": {
    "colab": {
      "name": "runner_up_nested.ipynb",
      "provenance": [],
      "collapsed_sections": []
    },
    "kernelspec": {
      "name": "python3",
      "display_name": "Python 3"
    }
  },
  "cells": [
    {
      "cell_type": "markdown",
      "metadata": {
        "id": "oMVGcEJvTo4-",
        "colab_type": "text"
      },
      "source": [
        "Given the participants' score sheet for your University Sports Day, you are required to find the runner-up score. You are given n scores. Store them in a list and find the score of the runner-up."
      ]
    },
    {
      "cell_type": "code",
      "metadata": {
        "id": "3FbVVTIzPrPM",
        "colab_type": "code",
        "colab": {
          "base_uri": "https://localhost:8080/",
          "height": 153
        },
        "outputId": "d712b251-15a1-4ec7-ffe2-97cee4519f6e"
      },
      "source": [
        "N = int(input())\n",
        "list = []\n",
        "num = []\n",
        "nl = []\n",
        "for i in range(0,N):\n",
        "  a = input()\n",
        "  b = float(input())\n",
        "  num.append(b)\n",
        "  list.append([a,b])\n",
        "  #print(list)\n",
        "  #print(num)\n",
        "num.sort()\n",
        "num.reverse()\n",
        "#print(num)\n",
        "c = num.count(min(num))\n",
        "number=num[len(num)-c-1]\n",
        "#print(number)\n",
        "for i in range(0,N):\n",
        "  if(number==list[i][1]):\n",
        "#print(list[i][0])\n",
        "    nl.append(list[i][0])\n",
        "    nl.sort()\n",
        "#print(nl)\n",
        "for x in range(len(nl)):\n",
        "  print (nl[x])"
      ],
      "execution_count": 32,
      "outputs": [
        {
          "output_type": "stream",
          "text": [
            "3\n",
            "sdf\n",
            "9\n",
            "yhn\n",
            "4\n",
            "zxcas\n",
            "4\n",
            "sdf\n"
          ],
          "name": "stdout"
        }
      ]
    }
  ]
}