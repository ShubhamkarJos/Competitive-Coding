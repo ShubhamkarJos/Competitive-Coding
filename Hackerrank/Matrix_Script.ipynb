{
  "nbformat": 4,
  "nbformat_minor": 0,
  "metadata": {
    "colab": {
      "name": "Matrix_Script.ipynb",
      "provenance": [],
      "collapsed_sections": []
    },
    "kernelspec": {
      "name": "python3",
      "display_name": "Python 3"
    }
  },
  "cells": [
    {
      "cell_type": "markdown",
      "metadata": {
        "id": "yFpOowiIGKLL",
        "colab_type": "text"
      },
      "source": [
        "To decode the script, Neo needs to read each column and select only the alphanumeric characters and connect them. Neo reads the column from top to bottom and starts reading from the leftmost column.\n",
        "If there are symbols or spaces between two alphanumeric characters of the decoded script, then Neo replaces them with a single space '' for better readability.\n",
        "Neo feels that there is no need to use 'if' conditions for decoding.\n",
        "Alphanumeric characters consist of: [A-Z, a-z, and 0-9]."
      ]
    },
    {
      "cell_type": "code",
      "metadata": {
        "id": "c5m3P0rODont",
        "colab_type": "code",
        "colab": {
          "base_uri": "https://localhost:8080/",
          "height": 52
        },
        "outputId": "0a4214ca-6431-4a60-99ac-018be45e0b95"
      },
      "source": [
        "import re\n",
        "x,y = list(map(int,input().split()))\n",
        "rows =[input() for i in range(x)]\n",
        "text = \"\".join([row[i] for i in range(y) for row in rows])\n",
        "text = re.sub('([A-Za-z1-9])[^A-Za-z1-9]+([A-Za-z1-9])', r'\\1 \\2', text)\n",
        "text = re.sub('  ', ' ', text)\n",
        "print(text)"
      ],
      "execution_count": 11,
      "outputs": [
        {
          "output_type": "stream",
          "text": [
            "5\n",
            "12345\n"
          ],
          "name": "stdout"
        }
      ]
    },
    {
      "cell_type": "markdown",
      "metadata": {
        "id": "5mRWfo5-GHkp",
        "colab_type": "text"
      },
      "source": [
        ""
      ]
    }
  ]
}