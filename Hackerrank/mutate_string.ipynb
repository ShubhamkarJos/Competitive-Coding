{
  "nbformat": 4,
  "nbformat_minor": 0,
  "metadata": {
    "colab": {
      "name": "mutate_string.ipynb",
      "provenance": [],
      "collapsed_sections": []
    },
    "kernelspec": {
      "name": "python3",
      "display_name": "Python 3"
    }
  },
  "cells": [
    {
      "cell_type": "markdown",
      "metadata": {
        "id": "-0JNIh5GwPSD",
        "colab_type": "text"
      },
      "source": [
        "ginortS\n",
        "\n",
        "You are given a string .\n",
        " contains alphanumeric characters only.\n",
        " Your task is to sort the string  in the following manner:\n",
        "\n",
        "All sorted lowercase letters are ahead of uppercase letters.\n",
        "All sorted uppercase letters are ahead of digits.\n",
        "All sorted odd digits are ahead of sorted even digits."
      ]
    },
    {
      "cell_type": "markdown",
      "metadata": {
        "id": "Nh2-f3YF0TMR",
        "colab_type": "text"
      },
      "source": [
        "We have seen that lists are mutable (they can be changed), and tuples are immutable (they cannot be changed).\n",
        "\n",
        "Let's try to understand this with an example.\n",
        "\n",
        "You are given an immutable string, and you want to make changes to it."
      ]
    },
    {
      "cell_type": "code",
      "metadata": {
        "id": "jXi-jZGoaMfH",
        "colab_type": "code",
        "colab": {
          "base_uri": "https://localhost:8080/",
          "height": 69
        },
        "outputId": "24240ce9-dd07-4eec-e1ed-2967bd83cea2"
      },
      "source": [
        "def mutate_string(string, position, character):\n",
        "    l = list(string)\n",
        "    l[position] = character\n",
        "    string = \"\".join(l)\n",
        "    return string\n",
        "\n",
        "if __name__ == '__main__':\n",
        "    s = input()\n",
        "    i, c = input().split()\n",
        "    s_new = mutate_string(s, int(i), c)\n",
        "    print(s_new)"
      ],
      "execution_count": 18,
      "outputs": [
        {
          "output_type": "stream",
          "text": [
            "Shubhankar\n",
            "6 m\n",
            "Shubhamkar\n"
          ],
          "name": "stdout"
        }
      ]
    }
  ]
}