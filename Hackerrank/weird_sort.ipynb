{
  "nbformat": 4,
  "nbformat_minor": 0,
  "metadata": {
    "colab": {
      "name": "weird_sort.ipynb",
      "provenance": [],
      "collapsed_sections": []
    },
    "kernelspec": {
      "name": "python3",
      "display_name": "Python 3"
    }
  },
  "cells": [
    {
      "cell_type": "markdown",
      "metadata": {
        "id": "-0JNIh5GwPSD",
        "colab_type": "text"
      },
      "source": [
        "ginortS\n",
        "\n",
        "You are given a string .\n",
        " contains alphanumeric characters only.\n",
        " Your task is to sort the string  in the following manner:\n",
        "\n",
        "All sorted lowercase letters are ahead of uppercase letters.\n",
        "All sorted uppercase letters are ahead of digits.\n",
        "All sorted odd digits are ahead of sorted even digits."
      ]
    },
    {
      "cell_type": "code",
      "metadata": {
        "id": "jXi-jZGoaMfH",
        "colab_type": "code",
        "colab": {
          "base_uri": "https://localhost:8080/",
          "height": 52
        },
        "outputId": "454d77c3-babd-4fd8-ad2c-da72c52cb403"
      },
      "source": [
        "s = input()\n",
        "l = list(s)\n",
        "q = []\n",
        "w = []\n",
        "n = []\n",
        "m = []\n",
        "for i in range(len(s)):\n",
        "  if ord(l[i]) > 96 and ord(l[i]) < 123:\n",
        "    q.append(l[i])\n",
        "  elif ord(l[i]) > 47 and ord(l[i]) < 58:\n",
        "    if int(l[i]) % 2 == 0:\n",
        "      n.append(l[i])\n",
        "    else:\n",
        "      m.append(l[i])\n",
        "  elif ord(l[i]) > 65 and ord(l[i]) < 97:\n",
        "    w.append(l[i])\n",
        "q.sort()\n",
        "n.sort()\n",
        "w.sort()\n",
        "m.sort()\n",
        "g = \"\"\n",
        "print(g.join(q + w + m + n))\n",
        "\n",
        "\n"
      ],
      "execution_count": 16,
      "outputs": [
        {
          "output_type": "stream",
          "text": [
            "ShuBhamkaR656168\n",
            "aahhkmuBRS516668\n"
          ],
          "name": "stdout"
        }
      ]
    }
  ]
}