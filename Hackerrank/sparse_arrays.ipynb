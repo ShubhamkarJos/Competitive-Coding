{
  "nbformat": 4,
  "nbformat_minor": 0,
  "metadata": {
    "colab": {
      "name": "sparse_arrays.ipynb",
      "provenance": []
    },
    "kernelspec": {
      "name": "python3",
      "display_name": "Python 3"
    }
  },
  "cells": [
    {
      "cell_type": "code",
      "metadata": {
        "id": "-dDaUNW71jrk",
        "outputId": "7cd68831-c567-43af-afe0-1cc261548d4e",
        "colab": {
          "base_uri": "https://localhost:8080/",
          "height": 212
        }
      },
      "source": [
        "n = int(input())\n",
        "strings = []\n",
        "for i in range(0,n):\n",
        "  r = input()\n",
        "  strings.append(r)\n",
        "\n",
        "q = int(input())\n",
        "queries = []\n",
        "for i in range(0,q):\n",
        "  r = input()\n",
        "  queries.append(r)\n",
        "\n",
        "count = []\n",
        "for i in queries:\n",
        "  c = 0\n",
        "  for j in strings:\n",
        "    if j == i:\n",
        "      c += 1\n",
        "\n",
        "  count.append(c)\n",
        "\n",
        "for i in count:\n",
        "  print(i)\n",
        "\n"
      ],
      "execution_count": 7,
      "outputs": [
        {
          "output_type": "stream",
          "text": [
            "4\n",
            "aba\n",
            "baba\n",
            "aba\n",
            "xzxb\n",
            "3\n",
            "aba\n",
            "xzxb\n",
            "ab\n",
            "2\n",
            "1\n",
            "0\n"
          ],
          "name": "stdout"
        }
      ]
    }
  ]
}