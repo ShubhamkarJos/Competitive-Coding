{
  "nbformat": 4,
  "nbformat_minor": 0,
  "metadata": {
    "colab": {
      "name": "Reverse Integer.ipynb",
      "provenance": []
    },
    "kernelspec": {
      "name": "python3",
      "display_name": "Python 3"
    }
  },
  "cells": [
    {
      "cell_type": "markdown",
      "metadata": {
        "id": "yQtUYDggfAh7"
      },
      "source": [
        "# **Reverse Integer**"
      ]
    },
    {
      "cell_type": "code",
      "metadata": {
        "id": "4KVj46cDe-fK"
      },
      "source": [
        "class Solution:\r\n",
        "    def reverse(self, x: int) -> int:\r\n",
        "        if x == 0:\r\n",
        "            return x\r\n",
        "        if x > 2147483648:\r\n",
        "            return 0\r\n",
        "        if x < -2147483648:\r\n",
        "            return 0\r\n",
        "        \r\n",
        "        else:\r\n",
        "            y = []\r\n",
        "            for i in str(x):\r\n",
        "                y.append(i)\r\n",
        "            y.reverse()\r\n",
        "            p = []\r\n",
        "            if y[-1] == '-':\r\n",
        "                y.remove('-')\r\n",
        "                p.append('-')\r\n",
        "            for i in y:\r\n",
        "                p.append(i)\r\n",
        "            \r\n",
        "            while True: \r\n",
        "                if p[0] == '0':\r\n",
        "                    p.remove(p[0])\r\n",
        "                else:\r\n",
        "                    break\r\n",
        "            \r\n",
        "            if p[0] == '-':\r\n",
        "                while True:\r\n",
        "                    if p[1] == '0':\r\n",
        "                        p.remove(p[1])\r\n",
        "                    else:\r\n",
        "                        break\r\n",
        "                    \r\n",
        "            s = \"\"\r\n",
        "            w = s.join(p)\r\n",
        "            x = w\r\n",
        "            if int(x) == 0:\r\n",
        "                return x\r\n",
        "            if int(x) > 2147483648:\r\n",
        "                return 0\r\n",
        "            if int(x) < -2147483648:\r\n",
        "                return 0\r\n",
        "            return x"
      ],
      "execution_count": null,
      "outputs": []
    }
  ]
}