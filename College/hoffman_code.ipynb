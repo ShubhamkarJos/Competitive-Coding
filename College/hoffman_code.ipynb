{
  "nbformat": 4,
  "nbformat_minor": 0,
  "metadata": {
    "colab": {
      "name": "huffman_code.ipynb",
      "provenance": [],
      "collapsed_sections": []
    },
    "kernelspec": {
      "name": "python3",
      "display_name": "Python 3"
    }
  },
  "cells": [
    {
      "cell_type": "code",
      "metadata": {
        "id": "ksUYoDLp97N2",
        "outputId": "449eb741-1104-41c5-9fe2-51e5f2f6eb56",
        "colab": {
          "base_uri": "https://localhost:8080/",
          "height": 190
        }
      },
      "source": [
        "import heapq             #remove all the debugs before submitting the code\n",
        "from collections import defaultdict\n",
        "str1 = input()          # taking the input\n",
        "f = defaultdict(int)    # a dictionary to store key and freq\n",
        "for key in str1:        \n",
        "  f[key] += 1           # calculating freq\n",
        "u = len(f)\n",
        "def fun(f):\n",
        "  ls = [[freq,[key,\"\"]] for key, freq in f.items()]   \n",
        "  heapq.heapify(ls)     # converting the dict into a heap \n",
        "  \n",
        "  while len(ls) > 1:\n",
        "    left = heapq.heappop(ls)    # putting the smallest element dict in left  \n",
        "    \n",
        "    right = heapq.heappop(ls)   # putting next small element dict in right \n",
        "    \n",
        "    \n",
        "    for x in left[1:]:          # forming the huffman code\n",
        "      x[1] = '0' + x[1]\n",
        "      \n",
        "    \n",
        "    for y in right[1:]:\n",
        "      y[1] = '1' + y[1]\n",
        "    sum =  [left[0] + right[0]] + left[1:] + right[1:]     # adding the smallest 2 elements along with their dict\n",
        "  \n",
        "\n",
        "    heapq.heappush(ls, sum)    #pushing back into the heap\n",
        "    \n",
        "  return (ls)\n",
        "\n",
        "\n",
        "Z = fun(f)\n",
        "\n",
        "\n",
        "print(\"Key\\tFreq\\tCode\")\n",
        "for x in range(1,u+1):\n",
        "  print(f'{Z[0][x][0]}\\t{f[Z[0][x][0]]}\\t{Z[0][x][1]}')\n",
        "\n"
      ],
      "execution_count": 133,
      "outputs": [
        {
          "output_type": "stream",
          "text": [
            "abaavdgabavdgdvsfac\n",
            "Key\tFreq\tCode\n",
            "v\t3\t00\n",
            "c\t1\t0100\n",
            "f\t1\t0101\n",
            "g\t2\t011\n",
            "a\t6\t10\n",
            "d\t3\t110\n",
            "s\t1\t1110\n",
            "b\t2\t1111\n"
          ],
          "name": "stdout"
        }
      ]
    }
  ]
}