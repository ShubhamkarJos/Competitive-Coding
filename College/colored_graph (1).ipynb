{
  "nbformat": 4,
  "nbformat_minor": 0,
  "metadata": {
    "colab": {
      "name": "colored_graph.ipynb",
      "provenance": [],
      "collapsed_sections": []
    },
    "kernelspec": {
      "name": "python3",
      "display_name": "Python 3"
    }
  },
  "cells": [
    {
      "cell_type": "code",
      "metadata": {
        "id": "evSGjWfwEa3w"
      },
      "source": [
        "#Iterating through adjacent vertices and checking if color is same\n",
        "def check(n, graph, colors, c):\n",
        "  for i in range(n):\n",
        "    if graph[n][i] and c == colors[i]: return False\n",
        "  return True   "
      ],
      "execution_count": null,
      "outputs": []
    },
    {
      "cell_type": "code",
      "metadata": {
        "id": "muuBLzYsGlmG"
      },
      "source": [
        "\n",
        "def valid(graph, color_nb, colors, n):\n",
        "  if color_nb + 1 == n:\n",
        "    return True\n",
        "\n",
        "  # Trying differents color for the vertex n\n",
        "  for c in range(1, color_nb+1):\n",
        "    # Check if assignment of color c to n is possible\n",
        "    if check(n, graph, colors, c):\n",
        "      # Assign color c to n\n",
        "      colors[n] = c\n",
        "      # Recursively assign colors to the rest of the vertices\n",
        "      if valid(graph, color_nb, colors, n+1): return True\n",
        "      # If there is no solution, remove color (BACKTRACK)\n",
        "      colors[n] = 0"
      ],
      "execution_count": null,
      "outputs": []
    },
    {
      "cell_type": "code",
      "metadata": {
        "id": "QVRMsAkwGnoe",
        "outputId": "34ca6a3f-996e-4b18-b99b-a587e325eab3",
        "colab": {
          "base_uri": "https://localhost:8080/"
        }
      },
      "source": [
        "import numpy as np\n",
        "n = int(input())\n",
        "color_nb = 3\n",
        "colors = [0] * n\n",
        "graph = np.zeros((n,n))\n",
        "graph = graph.astype(int)\n",
        "\n",
        "for j in range(0,n):\n",
        "  for i in range(0,n):\n",
        "   graph[i][j] = int(input(f'Is there a edge from from {j} to {i} : '))\n",
        "\n",
        "if valid(graph, color_nb, colors, 0):\n",
        "    print(colors)\n",
        "else:\n",
        "    print(\"No solutions\")\n"
      ],
      "execution_count": null,
      "outputs": [
        {
          "output_type": "stream",
          "text": [
            "4\n",
            "Is there a edge from from 0 to 0 : 0\n",
            "Is there a edge from from 0 to 1 : 1\n",
            "Is there a edge from from 0 to 2 : 0\n",
            "Is there a edge from from 0 to 3 : 1\n",
            "Is there a edge from from 1 to 0 : 1\n",
            "Is there a edge from from 1 to 1 : 0\n",
            "Is there a edge from from 1 to 2 : 1\n",
            "Is there a edge from from 1 to 3 : 0\n",
            "Is there a edge from from 2 to 0 : 0\n",
            "Is there a edge from from 2 to 1 : 1\n",
            "Is there a edge from from 2 to 2 : 0\n",
            "Is there a edge from from 2 to 3 : 1\n",
            "Is there a edge from from 3 to 0 : 1\n",
            "Is there a edge from from 3 to 1 : 0\n",
            "Is there a edge from from 3 to 2 : 1\n",
            "Is there a edge from from 3 to 3 : 0\n",
            "[1, 2, 1, 2]\n"
          ],
          "name": "stdout"
        }
      ]
    }
  ]
}