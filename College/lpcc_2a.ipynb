{
  "nbformat": 4,
  "nbformat_minor": 0,
  "metadata": {
    "colab": {
      "name": "lpcc_2a.ipynb",
      "provenance": []
    },
    "kernelspec": {
      "name": "python3",
      "display_name": "Python 3"
    }
  },
  "cells": [
    {
      "cell_type": "code",
      "metadata": {
        "id": "ZGNlEw22aJwC",
        "outputId": "dfe5fe3a-e518-43b3-ef34-000381ebfeb2",
        "colab": {
          "base_uri": "https://localhost:8080/"
        }
      },
      "source": [
        "import pandas as pd\n",
        "name = dict()\n",
        "mnt_name = dict()\n",
        "temp = []\n",
        "c = -1\n",
        "file = open('sample2.txt')\n",
        "for line in file:\n",
        " l = line.split()\n",
        " \n",
        " if 'START' in l:\n",
        "  break\n",
        "\n",
        " if 'MACRO' in l:\n",
        "  continue\n",
        "\n",
        " c+=1\n",
        " \n",
        "\n",
        " str1 = \"\"\n",
        " for i in l: \n",
        "  str1 += i\n",
        "  str1 += \" \"\n",
        " name[c] = str1\n",
        " if name[c] == 'MEND ':\n",
        "  temp.append(c+1)\n",
        "\n",
        "\n",
        "print(' MDT:')\n",
        "MDT = pd.DataFrame(list(name.items()),columns=['Index','Instructions'])\n",
        "print(MDT)\n",
        "mnt_name[0] = MDT['Instructions'].iloc[0]\n",
        "for key,value in name.items():\n",
        " if key in temp:\n",
        "  mnt_name[key] = value\n",
        "\n",
        "print(' \\nMNT:')\n",
        "MNT = pd.DataFrame(list(mnt_name.items()),columns=['Index','Macro Name'])\n",
        "print(MNT)"
      ],
      "execution_count": 4,
      "outputs": [
        {
          "output_type": "stream",
          "text": [
            " MDT:\n",
            "   Index   Instructions\n",
            "0      0          INCR \n",
            "1      1  MOVER AREG X \n",
            "2      2   ADD AREG,=1 \n",
            "3      3  MOVEM AREG X \n",
            "4      4          MEND \n",
            "5      5          DECR \n",
            "6      6  MOVER AREG X \n",
            "7      7   ADD AREG,=1 \n",
            "8      8  MOVEM AREG X \n",
            "9      9          MEND \n",
            " \n",
            "MNT:\n",
            "   Index Macro Name\n",
            "0      0      INCR \n",
            "1      5      DECR \n"
          ],
          "name": "stdout"
        }
      ]
    }
  ]
}