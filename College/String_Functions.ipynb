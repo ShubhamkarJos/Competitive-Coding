{
  "nbformat": 4,
  "nbformat_minor": 0,
  "metadata": {
    "colab": {
      "name": "String Functions.ipynb",
      "provenance": []
    },
    "kernelspec": {
      "name": "python3",
      "display_name": "Python 3"
    }
  },
  "cells": [
    {
      "cell_type": "markdown",
      "metadata": {
        "id": "rt3kQ5BmOR-c"
      },
      "source": [
        "# **The format() Method**"
      ]
    },
    {
      "cell_type": "code",
      "metadata": {
        "id": "zjT5Mq_IPhAz"
      },
      "source": [
        "txt = \"My name is {fname}, I'm {age}\".format(fname = 'Lewis', age = 20)"
      ],
      "execution_count": 26,
      "outputs": []
    },
    {
      "cell_type": "code",
      "metadata": {
        "colab": {
          "base_uri": "https://localhost:8080/",
          "height": 35
        },
        "id": "BvF2mrnSielQ",
        "outputId": "9d06b257-1b83-4c2a-a3a0-78aa0fd0ea22"
      },
      "source": [
        "txt"
      ],
      "execution_count": 27,
      "outputs": [
        {
          "output_type": "execute_result",
          "data": {
            "application/vnd.google.colaboratory.intrinsic+json": {
              "type": "string"
            },
            "text/plain": [
              "\"My name is Lewis, I'm 20\""
            ]
          },
          "metadata": {
            "tags": []
          },
          "execution_count": 27
        }
      ]
    },
    {
      "cell_type": "code",
      "metadata": {
        "id": "onoickpGigkd"
      },
      "source": [
        "txt1 = \"My name is {}, I'm {} and I am from {}\".format(\"Lewis\", 20, \"India\")"
      ],
      "execution_count": 33,
      "outputs": []
    },
    {
      "cell_type": "code",
      "metadata": {
        "colab": {
          "base_uri": "https://localhost:8080/",
          "height": 35
        },
        "id": "mMw-41a9itEF",
        "outputId": "eb654719-51d8-45ce-b409-9c848f07715f"
      },
      "source": [
        "txt1"
      ],
      "execution_count": 34,
      "outputs": [
        {
          "output_type": "execute_result",
          "data": {
            "application/vnd.google.colaboratory.intrinsic+json": {
              "type": "string"
            },
            "text/plain": [
              "\"My name is Lewis, I'm 20 and I am from India\""
            ]
          },
          "metadata": {
            "tags": []
          },
          "execution_count": 34
        }
      ]
    },
    {
      "cell_type": "markdown",
      "metadata": {
        "id": "Qy6AMJ5sPhXY"
      },
      "source": [
        "# **Escape Characters**"
      ]
    },
    {
      "cell_type": "code",
      "metadata": {
        "id": "wnNl2feQVGbc"
      },
      "source": [
        "str1 = \"We are the \\\"Champion\\\" and we are going to win\""
      ],
      "execution_count": 36,
      "outputs": []
    },
    {
      "cell_type": "code",
      "metadata": {
        "colab": {
          "base_uri": "https://localhost:8080/",
          "height": 35
        },
        "id": "XvV-grXCjT3_",
        "outputId": "325f0c4b-024b-4db7-d3f4-3d01ed54f244"
      },
      "source": [
        "str1"
      ],
      "execution_count": 37,
      "outputs": [
        {
          "output_type": "execute_result",
          "data": {
            "application/vnd.google.colaboratory.intrinsic+json": {
              "type": "string"
            },
            "text/plain": [
              "'We are the \"Champion\" and we are going to win'"
            ]
          },
          "metadata": {
            "tags": []
          },
          "execution_count": 37
        }
      ]
    },
    {
      "cell_type": "code",
      "metadata": {
        "id": "5n7WFgu8jWZb"
      },
      "source": [
        "str2 = 'My name is Lewis and I\\'m 20'"
      ],
      "execution_count": 39,
      "outputs": []
    },
    {
      "cell_type": "code",
      "metadata": {
        "colab": {
          "base_uri": "https://localhost:8080/",
          "height": 35
        },
        "id": "6xnV791YjfD-",
        "outputId": "a6b83164-deed-4ada-df11-ebcfee4b3fca"
      },
      "source": [
        "str2"
      ],
      "execution_count": 40,
      "outputs": [
        {
          "output_type": "execute_result",
          "data": {
            "application/vnd.google.colaboratory.intrinsic+json": {
              "type": "string"
            },
            "text/plain": [
              "\"My name is Lewis and I'm 20\""
            ]
          },
          "metadata": {
            "tags": []
          },
          "execution_count": 40
        }
      ]
    },
    {
      "cell_type": "markdown",
      "metadata": {
        "id": "0lN7w7BNQ654"
      },
      "source": [
        "# **String Methods**"
      ]
    },
    {
      "cell_type": "code",
      "metadata": {
        "id": "sAupK-J1VGrh"
      },
      "source": [
        "a = \"hello, welcome to this python tutorial!\""
      ],
      "execution_count": 41,
      "outputs": []
    },
    {
      "cell_type": "code",
      "metadata": {
        "colab": {
          "base_uri": "https://localhost:8080/",
          "height": 35
        },
        "id": "B3WQT2KSjtgJ",
        "outputId": "956da637-0991-40d2-b5ed-0f582bae4285"
      },
      "source": [
        "a"
      ],
      "execution_count": 42,
      "outputs": [
        {
          "output_type": "execute_result",
          "data": {
            "application/vnd.google.colaboratory.intrinsic+json": {
              "type": "string"
            },
            "text/plain": [
              "'hello, welcome to this python tutorial!'"
            ]
          },
          "metadata": {
            "tags": []
          },
          "execution_count": 42
        }
      ]
    },
    {
      "cell_type": "code",
      "metadata": {
        "colab": {
          "base_uri": "https://localhost:8080/",
          "height": 35
        },
        "id": "4bCMFz0hjupB",
        "outputId": "1ebcd94e-f679-4235-8e3b-493eb2505e7a"
      },
      "source": [
        "a.capitalize()"
      ],
      "execution_count": 43,
      "outputs": [
        {
          "output_type": "execute_result",
          "data": {
            "application/vnd.google.colaboratory.intrinsic+json": {
              "type": "string"
            },
            "text/plain": [
              "'Hello, welcome to this python tutorial!'"
            ]
          },
          "metadata": {
            "tags": []
          },
          "execution_count": 43
        }
      ]
    },
    {
      "cell_type": "code",
      "metadata": {
        "colab": {
          "base_uri": "https://localhost:8080/",
          "height": 35
        },
        "id": "lLwgZjwBj1OZ",
        "outputId": "809ae20d-af15-4e35-90a8-29f768e796fb"
      },
      "source": [
        "a.upper()"
      ],
      "execution_count": 45,
      "outputs": [
        {
          "output_type": "execute_result",
          "data": {
            "application/vnd.google.colaboratory.intrinsic+json": {
              "type": "string"
            },
            "text/plain": [
              "'HELLO, WELCOME TO THIS PYTHON TUTORIAL!'"
            ]
          },
          "metadata": {
            "tags": []
          },
          "execution_count": 45
        }
      ]
    },
    {
      "cell_type": "code",
      "metadata": {
        "colab": {
          "base_uri": "https://localhost:8080/",
          "height": 35
        },
        "id": "1Na2ZR8ij7RN",
        "outputId": "90caca95-4aa0-474f-f2fd-eee0b42a1d94"
      },
      "source": [
        "a.replace(\"hello\", \"hi\")"
      ],
      "execution_count": 46,
      "outputs": [
        {
          "output_type": "execute_result",
          "data": {
            "application/vnd.google.colaboratory.intrinsic+json": {
              "type": "string"
            },
            "text/plain": [
              "'hi, welcome to this python tutorial!'"
            ]
          },
          "metadata": {
            "tags": []
          },
          "execution_count": 46
        }
      ]
    },
    {
      "cell_type": "code",
      "metadata": {
        "id": "2f2gEwnGkDyd"
      },
      "source": [
        "b = \"           I am Lewis and I am from India         \""
      ],
      "execution_count": 47,
      "outputs": []
    },
    {
      "cell_type": "code",
      "metadata": {
        "colab": {
          "base_uri": "https://localhost:8080/",
          "height": 35
        },
        "id": "cRCEpb2ukKCG",
        "outputId": "5aceae28-883b-4fd7-9f97-a60109cab751"
      },
      "source": [
        "b"
      ],
      "execution_count": 48,
      "outputs": [
        {
          "output_type": "execute_result",
          "data": {
            "application/vnd.google.colaboratory.intrinsic+json": {
              "type": "string"
            },
            "text/plain": [
              "'           I am Lewis and I am from India         '"
            ]
          },
          "metadata": {
            "tags": []
          },
          "execution_count": 48
        }
      ]
    },
    {
      "cell_type": "code",
      "metadata": {
        "colab": {
          "base_uri": "https://localhost:8080/",
          "height": 35
        },
        "id": "OhjY8wvRkNC2",
        "outputId": "934298a4-9c9d-42c4-a7e2-f6e325e32a68"
      },
      "source": [
        "b.strip()"
      ],
      "execution_count": 49,
      "outputs": [
        {
          "output_type": "execute_result",
          "data": {
            "application/vnd.google.colaboratory.intrinsic+json": {
              "type": "string"
            },
            "text/plain": [
              "'I am Lewis and I am from India'"
            ]
          },
          "metadata": {
            "tags": []
          },
          "execution_count": 49
        }
      ]
    }
  ]
}