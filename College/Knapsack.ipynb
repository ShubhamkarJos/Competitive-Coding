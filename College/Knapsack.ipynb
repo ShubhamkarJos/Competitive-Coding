{
  "nbformat": 4,
  "nbformat_minor": 0,
  "metadata": {
    "colab": {
      "name": "Knapsack.ipynb",
      "provenance": [],
      "collapsed_sections": []
    },
    "kernelspec": {
      "name": "python3",
      "display_name": "Python 3"
    }
  },
  "cells": [
    {
      "cell_type": "code",
      "metadata": {
        "colab": {
          "base_uri": "https://localhost:8080/"
        },
        "id": "A8AmtXj_vvWk",
        "outputId": "731f74fa-90db-4ef9-9da2-ed79a1b1e713"
      },
      "source": [
        "n = int(input(\"Enter number of objects : \"))\n",
        "capacity = int(input(\"Enter the capacity of the bag : \"))"
      ],
      "execution_count": 75,
      "outputs": [
        {
          "output_type": "stream",
          "text": [
            "Enter number of objects : 5\n",
            "Enter the capacity of the bag : 11\n"
          ],
          "name": "stdout"
        }
      ]
    },
    {
      "cell_type": "code",
      "metadata": {
        "id": "Q2qM9f3Q0uhS"
      },
      "source": [
        "profit = [0]*(n+1)\n",
        "weight = [0]*(n+1)"
      ],
      "execution_count": 76,
      "outputs": []
    },
    {
      "cell_type": "code",
      "metadata": {
        "colab": {
          "base_uri": "https://localhost:8080/"
        },
        "id": "8AB_aJfP2dQc",
        "outputId": "824d7ca6-ea71-4555-e6c4-a53ead0e9ad7"
      },
      "source": [
        "for i in range(1,n+1):\n",
        "  profit[i] = int(input(f'Enter profit of object {i} : '))\n",
        "  weight[i] = int(input(f'Enter weight of object {i} : '))\n",
        "\n",
        "print(f' Profits = {profit}')\n",
        "print(f' Weights = {weight}')"
      ],
      "execution_count": 82,
      "outputs": [
        {
          "output_type": "stream",
          "text": [
            "Enter profit of object 1 : 1\n",
            "Enter weight of object 1 : 1\n",
            "Enter profit of object 2 : 6\n",
            "Enter weight of object 2 : 2\n",
            "Enter profit of object 3 : 18\n",
            "Enter weight of object 3 : 5\n",
            "Enter profit of object 4 : 22\n",
            "Enter weight of object 4 : 6\n",
            "Enter profit of object 5 : 28\n",
            "Enter weight of object 5 : 7\n",
            " Profits = [0, 1, 6, 18, 22, 28]\n",
            " Weights = [0, 1, 2, 5, 6, 7]\n"
          ],
          "name": "stdout"
        }
      ]
    },
    {
      "cell_type": "code",
      "metadata": {
        "id": "Q9JS7fPQ1cCY"
      },
      "source": [
        "mat = [ [ 0 for i in range(capacity+1) ] for j in range(n+1) ]"
      ],
      "execution_count": 78,
      "outputs": []
    },
    {
      "cell_type": "code",
      "metadata": {
        "colab": {
          "base_uri": "https://localhost:8080/"
        },
        "id": "vj4dQnKI2JTJ",
        "outputId": "6a0bb7a9-da2b-4e08-d010-91dbfa198663"
      },
      "source": [
        "for i in range(1,n+1):\n",
        "  for w in range(1,capacity+1):\n",
        "    if i == 0 or w == 0:\n",
        "      mat[i][w] = 0\n",
        "    elif weight[i] <= w:\n",
        "      if profit[i] + mat[i-1][w - weight[i]] > mat[i-1][w]:\n",
        "        mat[i][w] = profit[i] + mat[i-1][w - weight[i]]\n",
        "      else:\n",
        "        mat[i][w] = mat[i-1][w]\n",
        "      \n",
        "    else:\n",
        "      mat[i][w] = mat[i-1][w]\n",
        "print(*mat, sep='\\n')\n",
        "\n",
        "print(f'Total Weight = {mat[n][capacity]}')"
      ],
      "execution_count": 81,
      "outputs": [
        {
          "output_type": "stream",
          "text": [
            "[0, 0, 0, 0, 0, 0, 0, 0, 0, 0, 0, 0]\n",
            "[0, 1, 1, 1, 1, 1, 1, 1, 1, 1, 1, 1]\n",
            "[0, 1, 6, 7, 7, 7, 7, 7, 7, 7, 7, 7]\n",
            "[0, 1, 6, 7, 7, 18, 19, 24, 25, 25, 25, 25]\n",
            "[0, 1, 6, 7, 7, 18, 22, 24, 28, 29, 29, 40]\n",
            "[0, 1, 6, 7, 7, 18, 22, 28, 29, 34, 35, 40]\n",
            "Total Weight = 40\n"
          ],
          "name": "stdout"
        }
      ]
    },
    {
      "cell_type": "code",
      "metadata": {
        "colab": {
          "base_uri": "https://localhost:8080/"
        },
        "id": "3rsDmlhhZZ8R",
        "outputId": "8bb4ba0a-7c8b-4ae4-beac-a3011c4e7526"
      },
      "source": [
        "i = n\n",
        "j = capacity\n",
        "while i > 0 and j > 0:\n",
        "  if mat[i][j] == mat[i-1][j]:\n",
        "    print(f'Object {i} = 0')\n",
        "    i = i - 1\n",
        "  else:\n",
        "    print(f'Object {i} = 1')\n",
        "    j = j - weight[i]\n",
        "    i = i - 1\n",
        "\n",
        "while i > 0:\n",
        "  print(f'Object {i} = 0')\n",
        "  i = i - 1\n",
        "    \n"
      ],
      "execution_count": 84,
      "outputs": [
        {
          "output_type": "stream",
          "text": [
            "Object 5 = 0\n",
            "Object 4 = 1\n",
            "Object 3 = 1\n",
            "Object 2 = 0\n",
            "Object 1 = 0\n"
          ],
          "name": "stdout"
        }
      ]
    }
  ]
}