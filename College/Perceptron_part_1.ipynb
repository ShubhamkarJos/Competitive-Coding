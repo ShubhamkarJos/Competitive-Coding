{
  "nbformat": 4,
  "nbformat_minor": 0,
  "metadata": {
    "colab": {
      "name": "Perceptron part 1.ipynb",
      "provenance": []
    },
    "kernelspec": {
      "name": "python3",
      "display_name": "Python 3"
    },
    "language_info": {
      "name": "python"
    }
  },
  "cells": [
    {
      "cell_type": "code",
      "metadata": {
        "colab": {
          "base_uri": "https://localhost:8080/"
        },
        "id": "P82t_Jj6yRlP",
        "outputId": "766b62d5-388f-40b4-aa0a-545cbb4c46ef"
      },
      "source": [
        "train=[[0.2,0.3,0.9,1],[0.2,0.6,0.3,0],[0.9,0.2,0.7,1],[0.7,0.8,0.3,1],[0.5,0.4,0.5,1],[0.4,0.2,0.3,0],[0.6,0.8,0.1,0],[0.3, 0 ,0.4,0],[0.3,0.9,0.3,0],[0.5,0.1,0.4,1],[0.4,0.6,0.3,1],[0.3,0.9,0.1,1],[0.9,0.8,0.1,1],[0.2,0.5,0.1,0],[0.8,0.4,0.4,0]];\n",
        "test=[[0.9,0.4,0.9,1],[0.2,0.5,0.3,1],[0.5,0.5,0.3,0],[0.5,0.5,0.4,1],[0.6,0.4,0.3,0.9]];\n",
        "\n",
        "w1=1\n",
        "w2=1\n",
        "w3=1\n",
        "b=1\n",
        "lr=0.25\n",
        "\n",
        "\n",
        "for i in range (15):\n",
        "    estimated=b+(w1*train[i][0])+(w2*train[i][1])+(w3*train[i][2])\n",
        "    Y_estimated=0\n",
        "    if(estimated >= 0):\n",
        "        Y_estimated=1\n",
        "    else:\n",
        "        Y_estimated=0\n",
        "    if(Y_estimated != train[i][3]):\n",
        "        w1=w1+((lr)*(train[i][3]-Y_estimated)*train[i][0])\n",
        "        w2=w2+((lr)*(train[i][3]-Y_estimated)*train[i][1])\n",
        "        w3=w3+((lr)*(train[i][3]-Y_estimated)*train[i][2])\n",
        "        b=b+((lr)*(train[i][3]-Y_estimated));\n",
        "\n",
        "for i in range(5):\n",
        "    print(str(test[i][0])+\" \"+str(test[i][1])+\" \"+str(test[i][2])+\" \"+str(test[i][3])+\"           \")\n",
        "    ans=0\n",
        "    ans=b+(w1*test[i][0])+(w2*test[i][1])+(w3*test[i][2])\n",
        "    if(ans>=0):\n",
        "        print(\"Predicted Answer = 1\\n\")\n",
        "    else:\n",
        "        print(\"Predicted Answer = 0\\n\")\n",
        "        \n",
        "print(\"\\nw1 = \"+str(w1))\n",
        "print(\"\\nw2 = \"+str(w2))\n",
        "print(\"\\nw3 = \"+str(w3))\n",
        "print(\"\\nw4 = \"+str(b))\n"
      ],
      "execution_count": 29,
      "outputs": [
        {
          "output_type": "stream",
          "text": [
            "0.6 0.4 0.3 0.9           \n",
            "Predicted Answer = 0\n",
            "\n",
            "0.9 0.4 0.9 1           \n",
            "Predicted Answer = 1\n",
            "\n",
            "0.2 0.5 0.3 1           \n",
            "Predicted Answer = 0\n",
            "\n",
            "0.5 0.5 0.3 0           \n",
            "Predicted Answer = 0\n",
            "\n",
            "0.5 0.5 0.4 1           \n",
            "Predicted Answer = 0\n",
            "\n",
            "\n",
            "w1 = 0.3\n",
            "\n",
            "w2 = 0.14999999999999988\n",
            "\n",
            "w3 = 0.5250000000000001\n",
            "\n",
            "w4 = -0.75\n"
          ],
          "name": "stdout"
        }
      ]
    },
    {
      "cell_type": "code",
      "metadata": {
        "id": "ES_a4Rtv5grh"
      },
      "source": [
        "input1 = np.array([0,0])\n",
        "input2 = np.array([0,1])\n",
        "input3 = np.array([1,0])\n",
        "input4 = np.array([1,1])"
      ],
      "execution_count": null,
      "outputs": []
    },
    {
      "cell_type": "code",
      "metadata": {
        "colab": {
          "base_uri": "https://localhost:8080/"
        },
        "id": "cLBVnoj12sKv",
        "outputId": "ba435972-5320-4e21-f145-86448dd691d4"
      },
      "source": [
        "print(\" - - - - - - - - - -AND- - - - - - - - - - - \")\n",
        "print(f'\\t\\t{input1[0]} ∧ {input1[1]} => {AND(input1)}')\n",
        "print(f'\\t\\t{input2[0]} ∧ {input2[1]} => {AND(input2)}')\n",
        "print(f'\\t\\t{input3[0]} ∧ {input3[1]} => {AND(input3)}')\n",
        "print(f'\\t\\t{input4[0]} ∧ {input4[1]} => {AND(input4)}')\n",
        "print(\" - - - - - - - - - - - - - - - - - - - - - - \")"
      ],
      "execution_count": 17,
      "outputs": [
        {
          "output_type": "stream",
          "text": [
            " - - - - - - - - - -AND- - - - - - - - - - - \n",
            "\t\t0 ∧ 0 => 0\n",
            "\t\t0 ∧ 1 => 0\n",
            "\t\t1 ∧ 0 => 0\n",
            "\t\t1 ∧ 1 => 1\n",
            " - - - - - - - - - - - - - - - - - - - - - - \n"
          ],
          "name": "stdout"
        }
      ]
    },
    {
      "cell_type": "code",
      "metadata": {
        "colab": {
          "base_uri": "https://localhost:8080/"
        },
        "id": "Y0YAnX_h4gv_",
        "outputId": "5cd9425f-a9fc-4c6c-8cae-ade010f149f3"
      },
      "source": [
        "print(\" - - - - - - - - - -OR- - - - - - - - - - - \")\n",
        "print(f'\\t\\t{input1[0]} ∧ {input1[1]} => {OR(input1)}')\n",
        "print(f'\\t\\t{input2[0]} ∧ {input2[1]} => {OR(input2)}')\n",
        "print(f'\\t\\t{input3[0]} ∧ {input3[1]} => {OR(input3)}')\n",
        "print(f'\\t\\t{input4[0]} ∧ {input4[1]} => {OR(input4)}')\n",
        "print(\" - - - - - - - - - - - - - - - - - - - - - - \")"
      ],
      "execution_count": 18,
      "outputs": [
        {
          "output_type": "stream",
          "text": [
            " - - - - - - - - - -OR- - - - - - - - - - - \n",
            "\t\t0 ∧ 0 => 0\n",
            "\t\t0 ∧ 1 => 1\n",
            "\t\t1 ∧ 0 => 1\n",
            "\t\t1 ∧ 1 => 1\n",
            " - - - - - - - - - - - - - - - - - - - - - - \n"
          ],
          "name": "stdout"
        }
      ]
    },
    {
      "cell_type": "code",
      "metadata": {
        "colab": {
          "base_uri": "https://localhost:8080/"
        },
        "id": "91YGFqBJ4qMX",
        "outputId": "14329498-d622-4a10-fd72-e4b7c899d9c6"
      },
      "source": [
        "print(\" - - - - - - - - - -NOT- - - - - - - - - - \")\n",
        "print(f\"\\t\\t   0 => {NOT(np.array([0]))}\")\n",
        "print(f\"\\t\\t   1 => {NOT(np.array([1]))}\")\n",
        "print(\" - - - - - - - - - - - - - - - - - - - - - \")"
      ],
      "execution_count": 23,
      "outputs": [
        {
          "output_type": "stream",
          "text": [
            " - - - - - - - - - -NOT- - - - - - - - - - \n",
            "\t\t   0 => 1\n",
            "\t\t   1 => 0\n",
            " - - - - - - - - - - - - - - - - - - - - - \n"
          ],
          "name": "stdout"
        }
      ]
    }
  ]
}