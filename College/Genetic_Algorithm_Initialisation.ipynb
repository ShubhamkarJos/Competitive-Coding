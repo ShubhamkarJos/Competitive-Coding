{
  "nbformat": 4,
  "nbformat_minor": 0,
  "metadata": {
    "colab": {
      "name": "Genetic Algorithm Initialisation.ipynb",
      "provenance": [],
      "collapsed_sections": []
    },
    "kernelspec": {
      "name": "python3",
      "display_name": "Python 3"
    }
  },
  "cells": [
    {
      "cell_type": "code",
      "metadata": {
        "id": "FVFxF11vMSoM"
      },
      "source": [
        "import random\r\n",
        "import numpy as np"
      ],
      "execution_count": 11,
      "outputs": []
    },
    {
      "cell_type": "code",
      "metadata": {
        "id": "HFDCTOoLMgFd"
      },
      "source": [
        "populations =([[random.randint(0,1) for x in range(6)] for i in range(4)])"
      ],
      "execution_count": 12,
      "outputs": []
    },
    {
      "cell_type": "code",
      "metadata": {
        "colab": {
          "base_uri": "https://localhost:8080/"
        },
        "id": "GxlOB3u0Mo1c",
        "outputId": "106bd9f9-7290-4e78-cb07-367efe2079c6"
      },
      "source": [
        "print(populations)"
      ],
      "execution_count": 13,
      "outputs": [
        {
          "output_type": "stream",
          "text": [
            "[[0, 1, 1, 1, 0, 0], [1, 1, 1, 0, 0, 1], [1, 0, 0, 0, 0, 0], [1, 1, 0, 0, 0, 1]]\n"
          ],
          "name": "stdout"
        }
      ]
    },
    {
      "cell_type": "code",
      "metadata": {
        "id": "K8NCDItvMxZr"
      },
      "source": [
        "optimum = -1\r\n",
        "parents=[]\r\n",
        "new_populations = []"
      ],
      "execution_count": 19,
      "outputs": []
    },
    {
      "cell_type": "code",
      "metadata": {
        "id": "1i5-In4qM55i"
      },
      "source": [
        "def fitness_score():\r\n",
        "  global populations, optimum\r\n",
        "  fit_value = []\r\n",
        "  fit_score = []\r\n",
        "  \r\n",
        "  for i in range(4) :\r\n",
        "    chrom_value=0\r\n",
        "    \r\n",
        "    for j in range(5,0,-1) :\r\n",
        "      chrom_value += populations[i][j]*(2**(5-j))\r\n",
        "      \r\n",
        "      if populations[i][0] == 1:\r\n",
        "        chrom_value = -1*chrom_value\r\n",
        "    \r\n",
        "    x = -(chrom_value**2) + 5\r\n",
        "    fit_value.append(x)\r\n",
        "  \r\n",
        "  fit_value, populations = zip(*sorted(zip(fit_value, populations) , reverse = True))\r\n",
        "  optimum = fit_value[0]"
      ],
      "execution_count": 20,
      "outputs": []
    },
    {
      "cell_type": "code",
      "metadata": {
        "id": "MUfjLmRgPCIl"
      },
      "source": [
        "fitness_score()"
      ],
      "execution_count": 21,
      "outputs": []
    },
    {
      "cell_type": "code",
      "metadata": {
        "colab": {
          "base_uri": "https://localhost:8080/"
        },
        "id": "ahFZk3KdPfyo",
        "outputId": "fe41aa77-3894-4e3a-cb0f-15d64f56de5f"
      },
      "source": [
        "print(optimum)"
      ],
      "execution_count": 22,
      "outputs": [
        {
          "output_type": "stream",
          "text": [
            "5\n"
          ],
          "name": "stdout"
        }
      ]
    }
  ]
}