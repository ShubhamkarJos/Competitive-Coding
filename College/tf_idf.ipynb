{
  "nbformat": 4,
  "nbformat_minor": 0,
  "metadata": {
    "colab": {
      "name": "tf-idf.ipynb",
      "provenance": []
    },
    "kernelspec": {
      "name": "python3",
      "display_name": "Python 3"
    }
  },
  "cells": [
    {
      "cell_type": "code",
      "metadata": {
        "id": "dUL_f7M_0QM5",
        "outputId": "c03c842e-d55b-482b-dfa3-5f4d77a38b3e",
        "colab": {
          "base_uri": "https://localhost:8080/",
          "height": 33
        }
      },
      "source": [
        "import pandas as pd\n",
        "import sklearn as sk\n",
        "import math \n",
        "#load up our sample sentences\n",
        "first= 'The car is driven on the road'\n",
        "second= 'The truck is driven on the highway'\n",
        "#split so each word have their own string\n",
        "first = first.split(\" \")\n",
        "second= second.split(\" \")\n",
        "#join them to remove common duplicate words\n",
        "total = set(first).union(set(second))\n",
        "print(total) \n",
        "#Now lets add a way to count the words using a dictionary key-value pairing for both sentences\n",
        "wordDictA = dict.fromkeys(total, 0) \n",
        "wordDictB = dict.fromkeys(total, 0)\n",
        "for word in first:\n",
        "    wordDictA[word]+=1\n",
        "    \n",
        "for word in second:\n",
        "    wordDictB[word]+=1\n",
        "#put them in a dataframe and then view the result:\n",
        "pd.DataFrame([wordDictA, wordDictB])\n",
        "\n",
        "#Now writing the TF function:\n",
        "def computeTF(wordDict, bow):\n",
        "    tfDict = {}\n",
        "    bowCount = len(bow)\n",
        "    for word, count in wordDict.items():\n",
        "        tfDict[word] = count/float(bowCount)\n",
        "    return tfDict\n",
        "#running our sentences through the tf function:\n",
        "tfFirst = computeTF(wordDictA, first)\n",
        "tfSecond = computeTF(wordDictB, second)\n",
        "#Converting to dataframe for visualization\n",
        "tf_df= pd.DataFrame([tfFirst, tfSecond])"
      ],
      "execution_count": 4,
      "outputs": [
        {
          "output_type": "stream",
          "text": [
            "{'The', 'driven', 'highway', 'road', 'car', 'on', 'truck', 'is', 'the'}\n"
          ],
          "name": "stdout"
        }
      ]
    },
    {
      "cell_type": "code",
      "metadata": {
        "id": "NWv349NH0wXF"
      },
      "source": [
        "#creating the log portion of the Excel table we saw earlier\n",
        "def computeIDF(docList):\n",
        "    idfDict = {}\n",
        "    N = len(docList)\n",
        "    \n",
        "    idfDict = dict.fromkeys(docList[0].keys(), 0)\n",
        "    for doc in docList:\n",
        "        for word, val in doc.items():\n",
        "            if val > 0:\n",
        "                idfDict[word] += 1\n",
        "    \n",
        "    for word, val in idfDict.items():\n",
        "        idfDict[word] = math.log10(N / float(val))\n",
        "        \n",
        "    return idfDict\n",
        "#inputing our sentences in the log file\n",
        "idfs = computeIDF([wordDictA, wordDictB])\n",
        "#The actual calculation of TF*IDF from the table above:\n",
        "def computeTFIDF(tfBow, idfs):\n",
        "    tfidf = {}\n",
        "    for word, val in tfBow.items():\n",
        "        tfidf[word] = val*idfs[word]\n",
        "    return tfidf\n",
        "#running our two sentences through the IDF:\n",
        "idfFirst = computeTFIDF(tfFirst, idfs)\n",
        "idfSecond = computeTFIDF(tfSecond, idfs)\n",
        "#putting it in a dataframe\n",
        "idf= pd.DataFrame([idfFirst, idfSecond])"
      ],
      "execution_count": 5,
      "outputs": []
    },
    {
      "cell_type": "code",
      "metadata": {
        "id": "BY1xZ8xL00hh",
        "outputId": "b09bb6d0-6f0a-463a-eafe-8c745d2affda",
        "colab": {
          "base_uri": "https://localhost:8080/",
          "height": 212
        }
      },
      "source": [
        "#first step is to import the library\n",
        "from sklearn.feature_extraction.text import TfidfVectorizer\n",
        "#for the sentence, make sure all words are lowercase or you will run into error. for simplicity, I just made the same sentence all lowercase\n",
        "firstV= 'the car is driven on the road'\n",
        "secondV= 'the truck is driven on the highway'\n",
        "#calling the TfidfVectorizer\n",
        "vectorize= TfidfVectorizer()\n",
        "#fitting the model and passing our sentences right away:\n",
        "response= vectorize.fit_transform([firstV, secondV])\n",
        "print(response)"
      ],
      "execution_count": 6,
      "outputs": [
        {
          "output_type": "stream",
          "text": [
            "  (0, 5)\t0.42471718586982765\n",
            "  (0, 4)\t0.30218977576862155\n",
            "  (0, 1)\t0.30218977576862155\n",
            "  (0, 3)\t0.30218977576862155\n",
            "  (0, 0)\t0.42471718586982765\n",
            "  (0, 6)\t0.6043795515372431\n",
            "  (1, 2)\t0.42471718586982765\n",
            "  (1, 7)\t0.42471718586982765\n",
            "  (1, 4)\t0.30218977576862155\n",
            "  (1, 1)\t0.30218977576862155\n",
            "  (1, 3)\t0.30218977576862155\n",
            "  (1, 6)\t0.6043795515372431\n"
          ],
          "name": "stdout"
        }
      ]
    }
  ]
}