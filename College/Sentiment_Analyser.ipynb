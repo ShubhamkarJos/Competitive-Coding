{
  "nbformat": 4,
  "nbformat_minor": 0,
  "metadata": {
    "colab": {
      "name": "Sentiment Analyser.ipynb",
      "provenance": [],
      "collapsed_sections": [],
      "toc_visible": true
    },
    "kernelspec": {
      "name": "python3",
      "display_name": "Python 3"
    }
  },
  "cells": [
    {
      "cell_type": "markdown",
      "metadata": {
        "id": "VwK5-9FIB-lu"
      },
      "source": [
        "# Natural Language Processing"
      ]
    },
    {
      "cell_type": "markdown",
      "metadata": {
        "id": "X1kiO9kACE6s"
      },
      "source": [
        "## Importing the libraries"
      ]
    },
    {
      "cell_type": "code",
      "metadata": {
        "id": "7QG7sxmoCIvN"
      },
      "source": [
        "import numpy as np\n",
        "import matplotlib.pyplot as plt\n",
        "import pandas as pd"
      ],
      "execution_count": 126,
      "outputs": []
    },
    {
      "cell_type": "markdown",
      "metadata": {
        "id": "wTfaCIzdCLPA"
      },
      "source": [
        "## Importing the dataset"
      ]
    },
    {
      "cell_type": "code",
      "metadata": {
        "id": "UCK6vQ5QCQJe"
      },
      "source": [
        "dataset = pd.read_csv('cleaned_reviews.tsv', delimiter = '\\t', quoting = 3)"
      ],
      "execution_count": 127,
      "outputs": []
    },
    {
      "cell_type": "markdown",
      "metadata": {
        "id": "Qekztq71CixT"
      },
      "source": [
        "## Cleaning the texts"
      ]
    },
    {
      "cell_type": "code",
      "metadata": {
        "id": "8u_yXh9dCmEE",
        "colab": {
          "base_uri": "https://localhost:8080/"
        },
        "outputId": "cef9c400-e462-4e98-8b83-2a7fb5521779"
      },
      "source": [
        "import re\n",
        "import nltk\n",
        "from nltk.sentiment import SentimentIntensityAnalyzer\n",
        "nltk.download('stopwords')\n",
        "nltk.download('vader_lexicon')\n",
        "nltk.download('averaged_perceptron_tagger')\n",
        "nltk.download('punkt')\n",
        "sia = SentimentIntensityAnalyzer()\n",
        "from nltk.corpus import stopwords\n",
        "from nltk.stem.porter import PorterStemmer\n",
        "corpus = []\n",
        "for i in range(0,762):\n",
        "  review = dataset.iloc[:, -1].values\n",
        "  review = re.sub('[^a-zA-Z]', ' ', dataset['Review'][i])\n",
        "  review = review.lower()\n",
        "  review = review.split()\n",
        "  ps = PorterStemmer()\n",
        "  all_stopwords = stopwords.words('english')\n",
        "  all_stopwords.remove('not')\n",
        "  review = [ps.stem(word) for word in review if not word in set(all_stopwords)]\n",
        "  review = ' '.join(review)\n",
        "  corpus.append(review)"
      ],
      "execution_count": 128,
      "outputs": [
        {
          "output_type": "stream",
          "text": [
            "[nltk_data] Downloading package stopwords to /root/nltk_data...\n",
            "[nltk_data]   Package stopwords is already up-to-date!\n",
            "[nltk_data] Downloading package vader_lexicon to /root/nltk_data...\n",
            "[nltk_data]   Package vader_lexicon is already up-to-date!\n",
            "[nltk_data] Downloading package averaged_perceptron_tagger to\n",
            "[nltk_data]     /root/nltk_data...\n",
            "[nltk_data]   Package averaged_perceptron_tagger is already up-to-\n",
            "[nltk_data]       date!\n",
            "[nltk_data] Downloading package punkt to /root/nltk_data...\n",
            "[nltk_data]   Package punkt is already up-to-date!\n"
          ],
          "name": "stdout"
        }
      ]
    },
    {
      "cell_type": "code",
      "metadata": {
        "id": "KpGWdrzGoAsL",
        "colab": {
          "base_uri": "https://localhost:8080/"
        },
        "outputId": "3cfe2f21-f8d5-439c-f644-fa174596016c"
      },
      "source": [
        "print(corpus)"
      ],
      "execution_count": 129,
      "outputs": [
        {
          "output_type": "stream",
          "text": [
            "['good', 'best place dessert pune littl expens still quit tasti good ambiencd servic', 'awesom food', 'great food', 'think bit rate enjoy place much place bit small becom overcrowd give panacota full star best rest sandwich averag burger ok', 'great food', 'pasta prepar realli delici', 'nice place date wanna european food special chicken sandwich spaghetti awesom', 'food premium price good', 'best cheesecak citi opinion herb chicken best dish', 'yummmmm place awesom tri chicken wing garlic bread chees jaw drop like ambianc well seat perfect music amaz song choic nice sometim get place', 'la plaisir best place recent ambienc realli great food qualiti top notch total love experi go enjoy european cuisin come mani time could not enjoy dish first visit', 'dark chocol macaron must tri', 'good pana cotta macaron', 'pizza deliv uncook could tast flour', 'food great miss croqu madam meat loader still menu leav well satisfi wife partial savouri crepe not lot menu chang quit bit', 'bad unprofession servic', 'love ambienc differ varieti food offer', 'place fascin shivam kudal great polit worker', 'visit place deni entri wherea someon enter one minut told come long desert pm even deni entri ask ok', 'one finest restaur continent food definit live name small cozi warm place lover pasta serv best plate around local potato wedg mouth water yummmm highli recommend', 'went quick brunch friend authent european cuisin avail peach ice tea frapp meatload sandwich bread use crisp fresh hear crust crackl bite info price justifi tast experi ambienc', 'overr would suggest go', 'food awesom', 'small cozi warm place differ continent vibe took even understand menu love tri homemad potato hashcak pea pure rememb kind spaghetti littl', 'wonder ambienc delici food total valu money', 'good ambienc', 'realli like pricess food qualiti mark present also good price bit higher side', 'amaz food safe good servic dessert die pasta sandwich amaz also great option vegetarian non vegetarian alik lot choic', 'food excel nice ambienc must tri', 'good food special pizza', 'one finest restaur continent food love tast everyth serv best prepar tri chicken sandwich highli recommend anyon want peac awesom experi along delici food staff support profession inform serv', 'vibrant live ambienc wood fire chicken pizza awesom cheesecak yummi', 'love', 'visit le plasir day back cottag chees steak good tast portion fine tast pesto sauc pasta somewhat salti think order tast expresso panacotta yummmm cappuccino must tri tast', 'margherita pizza disgust rest amaz', 'love locat restaur mani good option menu seem good place dessert', 'expect chat pal food find chord clip face hog authent cuisin ps give meat loader sandwich tri', 'amaz food amaz vibe', 'amaz place love delici food pickl carrot cucumb turnip cake delici tri also crispi veget cheung fun soya sauc delici dim sum', 'good', 'tast food qualiti superb', 'le plaisir never disappoint yummi food good music warm ambienc', 'inde first choic european food place happen live went sunday even fill load peopl enjoy meal convers click awesom food pictur', 'fantast place', 'linear volum ambienc littl black grey hint colour hang lamp add quirki quotient space yellow awn almost street side cafe array menu choos perfect summeri', 'fulfil tastebud harrisa chicken breast good blueberri cheesecak awesom etc etc must visit place', 'absolut delici bit pricey tri atleast amaz staff', 'amaz tast present servic', 'love place n food', 'pathet food worst servic custom neglect comod one care respond custom feedback', 'breki done right realli good sandwich time favourit meatloaf sandwich die', 'costli', 'love place', 'less said better le plaisir experi appreci favorit joint everyth starter main cours dessert fantabul foodi sure must not miss one get place', 'espresso panna cotta must tri coffe lover', 'nice place enjoy good food pleasant atmospher', 'classic peopl deccan around good portion size tasti sinc day favourit go peri peri fri choco banana milkshak three chees pasta', 'good food n servic', 'order woodburn pizza suffer food poison past day never go back', 'ambianc nice food great room improv', 'went lunch got place without wait onlin order entir contactless great menu varieti excel food awesom lot option veg mayb littl limit avail terrif definit worth visit', 'awesom breakfast brunch option littl pricey worth tast qualiti ambienc love cheesecak', 'lil price food good', 'amaz food servic venu quiet surround fab ambienc overal', 'love espresso panna cotta', 'not expect', 'nice ambianc awsom music nice test', 'amaz sandwich dessert visit place year ago first day small one even bigger better', 'amaz place great variat went grab macaroon take home staff help friendli especi wonder ladi door much time explor complet next time pune sure visit place bubbl warm vibe', 'nice restaur good servic', 'amaz dessert', 'good french food lover', 'yummi food alway', 'dessert best', 'food delici regular custom not food qualiti drop serv consist qualiti authent food', 'food pretti good order caramel panacota', 'tasti', 'food qualiti superb tast almost amaz busi weekend good servic', 'finger lick food', 'nice food like ambienc', 'absolut delight total live upto reput gourmet restaur food dessert lip smack ambienc great staff well train polit usual crow took us min get tabl', 'awesom food ambianc', 'rare occas crave realli good mediterranean cuisin find restaur not far place le plaisir munch list long time excit like littl kid visit tri', 'beauti ambianc delici food compet hospit staff expect high end restaur one star', 'must visit italian food lover', 'great food', 'word place perfect', 'exquisit', 'superb tast expresso panna cotta extrem delici', 'great qualiti quantiti', 'awesom bistro pune serv scrumptiou food must tri near take littl time get order hey complain wait amaz result', 'love food', 'great food could better option beverag', 'awesom place foodi multi cuisin italian best best place hang friend', 'great food great ambienc love servic', 'translat googl best food best chef punyachya bhashet jagat bhari origin best food best chef punyachya bhashet jagat bhari', 'waiter much help dish tasti enough tri atleast ambienc famili friend bf gf visit cleanli op chat', 'amaz food', 'alway treat', 'wonder eateri hidden suburb pune hous near deccan gymkhana wonder joint special menu great spot breakfast brunch date catch friend italian', 'amaz place good servic good food worth money', 'amaz place mix cuisin food especi italian also love mani exclus dish like harissa chicken kind pasta sandwich expresso pannacota etc also pump new pizza line', 'worth', 'good food good ambienc', 'love', 'great food not peopl look pocket friendli option', 'one best cheesecak pune awesom dessert macroon good coffe visit friend famili lill expens side though worth', 'tast not expect respect review googl zomato', 'best pune pastri', 'amaz place hangout relish food brew tea', 'brilliant decor atmospher absolut lip smack food bit overpr posit side follow covid protocol well definit must visit', 'good place good servic good staff', 'awesom everi way say', 'absolut love rang pastri', 'food fresh delici server extrem friendli provid good suggest', 'love place perfect venu catch friend famili like great assort european breakfast menu love sure go btw great servic help smile staff play good apt music', 'one best place conti well dessert', 'food good wanna go back', 'delici food macroon', 'one best place breakfast italian dinner varieti veg non veg food best place whole pune blueberri cheesecak espresso panna cotta', 'nice', 'decent place good food', 'food good pricey', 'awsom food', 'thank lockdown tast vibe', 'joint good continent breakfast earli morn prefer get crowd hygein norm follow food costli', 'great place awesom ambienc classic european experi highli recommend tri soup sourdough bread pizza pasta friend tri one dish menu categori wow', 'best continent place past year tast chang bit goog food guarante', 'excel ambienc superb food', 'food absolut fantast ambienc servic good', 'ok bit noisi quiet afternoon lunch bit expens servic offer', 'highli recommend', 'clean tidi ambienc', 'le plaisir not restaur emot love food much even though stay pune travel harrisa grill chicken beauti dessert pannacota love ambienc', 'cafe one best place dessert cheesecak one best town miss place visit citi tad bit prici total worth', 'food excel sometim wait time looong', 'popular amongst colleg goer finger food offer chees pasta creami garlic prawn dessert good', 'hot chocol', 'place great ambienc best food realli nice place hang friend', 'le plaisir best food pune cozi ambienc moder price not singl dish menu miss would dine everyday could', 'expens exclus one best restaur pune bit expens great experi', 'good place uniqu menu bad part time taken order arriv', 'comfti sofa', 'cheesecak amaz', 'experi great expens yep', 'best', 'garlick bread not upto price expect', 'one good bistro citi one premier place good meal prabhat road not best valu money cough place definit good vibe ambienc accompani good food', 'beauti everi day better', 'good food good ambienc', 'today cottag steak garlic bread not mark', 'amaz', 'best food world', 'servic akd order bit slow food good costli well', 'great place', 'one best european food joint pune good thing salad sandwich main cours coffe excel chicken breast mash potato person favorit carrot sweet potato soup along peri peri', 'great food good ambienc beam youth vibe', 'amaz tast everyth', 'food process order slow swiggi zomato deliveri boy', 'food good ambienc littl loud weekend better sit ground floor coz water leak roof top seat area infornt washroom', 'authent pasta place', 'horribl servic tast', 'love place sachertort', 'nice ambienc excel servic vaishnavi recommend', 'tri panna cotta think worth hype person prefer though blueberri hazelnut cheesecak howev world would recommend everyth els cheesecak', 'nice', 'cottag chees sandwhich must tri vegetarian treat tast bud also one shouldnt forget garlic bread mushroom cream truffl oil burnt soup could better friendli tech savi staff must visit', 'delici food item', 'atmospher sooth food qualiti mouth tempt marathi languag use staff', 'worth money wait place beauti menu food realli live hype', 'great food dessert must tri awesom servic', 'touch mediterranean cuisin die macroon', 'awesom food simpl classi ambienc kheema sourdough bread egg brilliant french toast', 'le plasir alway surpris excel food creat benchmark european cuisin pune place vibrant food simpli delici sourdough bread amaz chicken cook perfect', 'good food great atmospher wait pain time', 'nice', 'spaghetti pink sauc good portion size enough peopl order anyth els atleast person noth els tasti food roast chicken sandwich sourdough bread sandwich crunchi flavour sandwich', 'awesom food salad expresso pannacota plaisir world good', 'one best cafe everyth delici class apart', 'amaz food', 'great ambianc yummi food', 'great ambienc excel food must visit', 'alway best', 'highli overr overhyp place moder serv size not impress servic pathet order system fill hassl wont visit', 'panna cota best', 'thousand time last year visit post lockdown overwhelm took memori lane alway love food use', 'good ambienc good servic excel food love', 'food amaz ambienc good covid dine measur follow properli bit crowd weekend', 'place dammmmm coool', 'nice', 'nice food hang place', 'great food servic check harrissa sandwich chees cake awesom', 'best place brunch', 'servic good food good price find mani not mani option', 'good place eat', 'tast good price much quantiti serv', 'dish order less amount sauc dish base sauc whole dish good amount sauc sumthn grill chicken cream pepper sauc', 'good place european food', 'excel food tast definit worth visit', 'excel food courteou staff', 'good food place nice dine', 'best pink sauc pasta ever', 'dish littl bit costli', 'nice pasta', 'awesom place open end nov said shift besid madelin cafe kothrud', 'place take maximum safeti measur pandem situat sanitis tabl seat one leav measur like temperatur hand sanit also taken along app order food', 'balanc test uniqu menu', 'nice food', 'excel food uniqu authent menu tri veg non veg dish gave never kind experi', 'amaz food must visit restaur pune tri grill chicken dish wing desert econom place flavour food ambienc', 'bit expens realli good food', 'place food staff manag good place worth visit', 'time favourit uniqu flavor genuin food', 'food amaz felt chaotic small space lot peopl need work sound restaur feel cozi servic fast food tasti', 'highli recommend pannacotta aglio olio spaghetti social distanc strictli follow along good sanitis measur made perfect choic earli dinner home', 'best french style restaur pune', 'alway perfect', 'food worst burnt garlic bread frozen prawn grill chick total dri', 'le plaisir foodi dream consist servic food qualiti quantiti le plaisir deliv delect delight tri pastri macaron also one best pizza place pune visit', 'place love chicken harisa espresso panna cotta time favourit though everyth menu amaz', 'le plasir earn name one best italian restaur pune experienc aura place trust differ level altogeth pro subtl ambienc proper fine dine italian restaur', 'great food alway', 'without doubt place wholesom meal beauti lil french resto prabhat road train staff amaz chef love food definit show sophist plate amaz tast love dessert offer', 'bit overr otherwis awesom ambienc silenc', 'consist qualiti ingredi must visit pizza joint pune never disappoint dish order garlic bread awesom great pizza choic got', 'coffe machin kaputt repair hope next time', 'one best place go one like european fare food superb ambienc casual friendli sunni servic excel notabl peopl serv know stuff help choos fare dessert die highli recommend', 'ok', 'blueberri cheesecak realli recommend add bake cheesecak menu worth rs price tag', 'love food', 'great tast', 'must must must place visit punekar place perfect tri foreign new flavour peopl dare tri new cuisin', 'salmon love ny chees cake good ambienc nice staff bit costli worth', 'order brioch spici lamb kheema sour quantiti less satisfi half fri egg top dish disappoint coud cou hummu ok garlic bread chees good', 'scrambl egg horribl', 'food qualiti excel best macaroon avail work staff also super friendli le plasir mean pleasur believ inde pleasur spend time friend dear one munch snack realli good ambienc servic food tast nice', 'went friend like ambienc food good special love peri peri fri', 'thier roast chicken breast mash potato ju best ever tri whole menu', 'alway recommend noth ever disappoint garlic bread garlic butter serv side amaz desert valu money must visit rich qualiti food alway go back', 'price', 'place best cheesecak macaroon espresso panacotta also serv great savori dish overal restaur serv great dish', 'macaroon best', 'amaz place european style food perfect choic meal want breakfast lunch dinner', 'nice one', 'good main road', 'authent word', 'good food love european cuisin', 'love ambienc worth min wait tri sever dish harissa grill chicken roast chicken iceberg spice chicken wing everyth awesom definit go', 'order food lockdown entir famili suffer bloat upset tummi poor tast regret order', 'great food great tast beauti ambianc', 'best restaur', 'super food qualiti visit', 'featur sever food guid frequent enlist among must visit place citi le plasir consist serv high qualiti flavour dish past sever year lockdown pickup servic remain smooth hiccup free dish tast good alway', 'place great ambienc decent food slightli expens side excel present though', 'food serv uniqu tast present eye catch tast qualiti food excel', 'le plaisir great place enjoy ur dessert cheesecak perfectli cheesi melt mouth nice flavor hazelnut best part crush hazelnut top cheesecak place cosi nice ambienc', 'tri flavour macron sure like great ambienc great coffe date', 'bit expens', 'nice ambienc', 'eaten time alway end upset stomach never bad ingredi', 'macaroon hot chocol realli yummi', 'beauti place amaz ambienc food finger lick good', 'eat like europ le plaisir know joint pune fan follow tri special like sticki pork rib butter garlic mushroom', 'translat googl hello origin hola', 'origin qualiti chocol delici wait time min crowd weekend', 'nice', 'love place great ambianc good servic mouth water dish', 'ambienc place best thing chees cake chill forget world outsid play realli nice music give feel like not india anymor place littl bit expens worth', 'go test fabul pastri', 'good found hype', 'european food find salad desi veggi turn toward valu money crisp chicken perfectli cook season accompani sour cream not worth even portion size poor littl bit', 'pasta', 'great food qualiti simpli outstand', 'tast varieti experi great', 'amaz place european style food perfect choic meal want breakfast lunch dinner menu elabor difficult abl tast everyth singl visit love', 'present food realli good eat option healthi', 'excel food great dessert great servic tri food atleast not till', 'place mani time never disappoint food qualiti tast amaz like harissa chicken grill pancotta', 'comfort zone', 'love place amaz food', 'cost goe road prabhat road', 'perfect brunch place busi yet sophist crowd one best european food tri india brioch soft delici amaz portion prais enough take photo busi eat lol', 'uniqu tast interest flavour way expens bit loud', 'nice place servic great menu space one thing bit noisi peopl tend talk loudli may morn hour holiday', 'like drink tast food', 'amaz food worth', 'love dessert though place noisi', 'one cafe pune recommend anyon would well curat menu short point amaz pasta sandwich best cheesecak ever', 'must visit great italian food ambienc', 'absolut second home everyth serv made passion place warmth', 'nice ambienc differ menu howev dish passabl', 'place awesom ggod ambienc food excel', 'macron', 'pricey excel place european cuisin varieti beverag option pair cappuccino must', 'go tri harissa chicken', 'totali droll place', 'love wonder staff dish usual not authent made countri mark fresh one best place brunch recommend macroon herb chicken suprem mayo roast chicken garlic mayo sandwich homemad hashbrown cake pea pure espresso pannacotta', 'great food quick servic nice ambienc would definit recommend place', 'food authent upto mark', 'love place', 'perhap best place italian pune also harissa chicken tast amaz', 'amaz food especi italian cuisin desert', 'awesom cheesecak littl price sensit minimum buck requir', 'pastri best rest ok', 'simpli fabul macaroon cheesecak yumm', 'delici food', 'love food ambienc', 'staff good ambienc awesom way order food use menu card print wall way creativ', 'verri nice food', 'need rice varieti', 'amaz dessert', 'great foodz ambienc present', 'ambienc food desert hazelnut cheesecak must tri dessert dish call herb chicken someth delici three chees pasta also mouth water', 'good food love european cuisin option everybodi start app order food one ask waiter take order board display food item', 'need item non veg sweet', 'excel food enjoy treat', 'coffe not upto mark decent food', 'amaz n authent flavor', 'locat prabhat road deccan gymkhana pune quaint eateri monochrom paintwork serv eclect collect mouth water continemt european food harissa chicken breast well made right select', 'one favourit restaur pune great food servic', 'love food kept want eat', 'excel', 'sandwich know want', 'tasti delici best place eat non veg food team lunch food spici like worth price', 'must tri grill chicken recip', 'good ambienc', 'pannacota die', 'skeptic pretenti european place mumbai le plaisir except good sever time friend famili none dish disappoint salad favourit', 'food realli good spici like realli great experi', 'blueberri cheesecak', 'macaroon good', 'good dessert good use work could menu', 'best cheesecak place pune', 'quit amaz varieti run mill stuff', 'must visit ambienc great food excel staff friendli think anyth miss', 'amaz pasta cheesecak best town club good ambianc music friendli staff may think price first go thing cheaper elsewher entir experi make worth', 'amaz place great food less option veg', 'excel food', 'ridicul overpr unworthi pocket', 'best cafe pune flavour spectacular atmospher comfort staff oblig', 'definit must visit place like chicken dish', 'date place', 'tri agilo olio pasta pesto sauc pasta parmesan cream sauc pasta risotto egg plant butter garlic mashroom peri peri fri dessert expresso panna cotta item great tast', 'amaz food', 'awsom place nice nd cozi ambienc polit staff excel dish order chicken dish like chicken breast smash potato ju harissa chicken breast potato vegi dessert order chees cake panna cotta dish lip smack mouthwat', 'small portion size call big plate menu averag qualiti tast smoke ham risotto tini amount shred ham', 'best european food area', 'menu card understood tri save paper not e menu card leav tabl read board order food inconveni limit food choic cost quantiti ratio not', 'great tast one must visit atleast great varieti menu pick', 'nice place short meet ita noici', 'good food ambianc littl overhyp though', 'best cheesecak town', 'visit cafe first time restaur hear review colleagu found food lip smack order beetroot mascarpon w mix leaf jawar salad pink sauc pasta add', 'great food', 'amaz place serv delici food tri dessert blueberri cheesecak delect', 'want visit authent italian restaur la plasair place tast awesom menu spread good side ambianc loud music play constantli loud yyou may not abl', 'dimsum spring roll must tri great ambienc super awesom servic', 'prawn best part romant weather around cherri top', 'look south east asian cuisin pune malaka spice amaz food servic top notch lot good stuff tri outdoor seat valet park servic', 'authent thai food nice place dine friend famili', 'sort tourist trap great locat great ambienc', 'great food ambienc', 'amaz food ambienc excel staff servic', 'food awesom servic brilliant go place year still retain level consist', 'love place good class conduct thank u', 'one finest delicaci serv pune love ambienc well behav staff add charm', 'place love vibe food die valet take care park tri sushi simpli outstand', 'ambienc awesom servic good food great would sure recolor other', 'multi cuisin restaur', 'nice ambienc great food good servic malaka spice great place hangout friend famili like dumpl burmes curri noddl excel red thai curri quit tasti friendli polit staff malaka spice must tri restaur', 'sushi horrend howev not charg us rest food not worth hype probabl chef bad day probabl go place month see anyth chang', 'overpr overr', 'nice place hangout friend famili help staff nice ambianc', 'amaz food servic', 'amaz place great food superb staff', 'calm peac environ better known asian cuisin tri sushi good fine dine experi', 'realli like place perfect hangout spot friday night romant dinner food also tasti pack parcel dont dont eat entir thing tht u order even not ask', 'malaka spice must tri restaur worth spend money non veg dish much better veg one nonetheless staff co oper help', 'food nice expens', 'malala spice best restraunt best dish like dumpl papaya salad curri', 'menu bit confus', 'food okay servic slow', 'stick thai malay great cuisin', 'great ambianc great food good servic go back see cocktail dish menu pleas check wait staff often not also unsur ask recommend staff never regret choic', 'place close food mediocr best gravi slop', 'excel asian cuisin indoor outdoor seat', 'good restaur tasti food good drink', 'amaz pan asian food great quiet lunch date great soul food', 'good ambienc', 'fan food ambienc year best part gav shant chang bit', 'best thai food ever', 'great place dine', 'menu price incorrect ask gave stupid reason digit menu wrong also food cold never go', 'ambienc food drink overal setup menu waiter servic everyth amaz', 'food qualiti ok ambienc nice place look better visit even reserv tabl visit', 'food amaz esp veg dumpl chocol hazelnut cake delici felt quantiti less food appear price celeb fine dine restaur think understand', 'alway tasti food impecc servic provid staff well inform menu interact pleasant beauti colour ambienc', 'uncomfort sit arrang bad tast food less quantiti l', 'nice ambienc nice courteou staff averag food', 'want experi culinari journey asian south east asian food authent place eat ambienc staff food awesom pleas expect tandoori biryani', 'good pleasant place', 'jewel pune hospit ambienc lip smack menu amaz mix', 'bad experi food someth everi dish not worth price hype', 'good place tri south east asian cuisin ambienc good though park space valet servic', 'love place spend time love one howev drink limit food option good prefer non veg veg guy compromis super rush weekend avoid day not fun', 'nice place good food wonder staff', 'place nice ambienc nice food also tasti order chicken dumpl burmes curri noodl prawn realli tasti staff attent polit', 'great south eastern food open', 'food ambienc good buffet limit number option pleas checkout food menu visit place', 'great food great ambianc', 'food expens not suffici accord price', 'awesom alway', 'qualiti quantiti super low', 'classic south east asian food', 'food tasti servic nice ambienc good vegetarian tri tom kha phak soup dinner would cost per person', 'ambienc good fish chicken dri chicken seem dip sauc cook not marin properli overpr term tast qualiti recommend place', 'good restaur uniqu tast although improvis servic', 'nice ambienc food', 'great food', 'good ambianc food ok', 'littl expens food ambienc music good', 'beauti ambienc delici food extrem neat clean washroom host prasanjit friendli help overal good experi would like visit', 'love ambianc servic great staff good', 'amaz food good ambianc nice staff come sure', 'love vibe great ambienc good mix night boy romant dinner girlfriend recommend burmes curri noodl amaz fulfil say worth price', 'great ambianc good food', 'good place thai malaysian food', 'food pathet order food could not eat', 'food authent tasti lot chao among peopl day visit henc star', 'today experi bad last dish order tool min kept us wait appetit lost food good staff good today sad experi regular custom', 'great place visit place visit even special ambienc light doubt food qualiti best sure visit', 'food great', 'great food ambianc veg saturday awesom', 'limit menu tast good though servic okay', 'food singl sauc almost everi item base coconut milk cuisin primarili pan asian not mention extra servic charg taken good food though', 'simpli awesom restaur know pune time favourit never disappoint u food menu bar menu relax ambienc make u realli relax googl allow star otherwis would given', 'food ambienc back post pandem tri chilli sangria drink rememb exact name sophist flavor', 'awesom place', 'staff good', 'good place back action', 'awesom place tasti south asian food', 'tasti fresh food item balewadi high street staff friendli kindli serv green tea also must tri', 'amaz food love ambien kind respec staff overal love entir experi look forward come', 'excel servic food qualiti v good chang year', 'go place delici fragrant asian food', 'great food ambienc', 'perfect place romant dinner ambienc good tast', 'love food great ambienc excel hospit like asian cuisin place', 'love place', 'great food friendli servic', 'love ambienc safeti norm post covid', 'good place visit good food varieti avail', 'great asian food anyway famou pune servic swift friendli server well train effect choic cater everi palat prefer overal malaka spice substanti menu wonder servic provid truli heart warm dine experi', 'excel place good food costlier side exist decad consist favourit papaya salad top hat mutton thai chop curri noodl prawn dish grill fish banana leaf molass', 'realli good food nice larg outdoor seat area', 'great food ambianc wonder staff', 'good food good servic', 'malaka spice food staff two critic ingredi repeat resturaunt guy nail food menu like none tophat must not miss khoy sue burmes', 'heard place lot wish hungri enjoy varieti alway next time', 'awesom experi ambienc food wise love absolut', 'nice fud ambienc', 'amaz servic stuff restaur come farmhous tast much authent whether veg non veg along portion food talk ambienc kind get space fine music', 'beauti ambianc polit staff good food afford', 'malaka spice one oldest go place thai food pune servic food ambienc never let alway make go back next time food absolut authent consist prepar', 'beauti place pleasant ambianc awesom food', 'wonder place dine hang atmospher cool mesmer peopl look combin indian asian food check', 'covid safe extrem smart convers staff delici food', 'food delici best part place ambienc nice place go even date', 'ok ok food good ambienc', 'care herb upset stomach minut', 'awesom food courteou servic repeatedli outstand', 'good food great ambianc lot space rich menu figur short visit not spent much time like like hand wash basin way deep toilet like', 'good food prompt servic alway peopl smoke tabl littl close togeth opinion outsid seat keep mind social distanc norm otherwis everyth els great', 'delici food slightli expens ambianc good', 'love food love lamb dish perfectli cook contactless order menu help covid time courteou staff valet park avail tabl book recommend', 'refresh break mouth water asian cuisin welcom new year', 'great food ofcours name say howev seen better state park major major issu place worth visit', 'help assist', 'love food', 'ambienc good food good servic need improv overal experi fine noth special place', 'nice place dine friend famili good food good ambianc prompt courteou servic', 'tast great cost much go alon quantiti expens dish serv enough two peopl excel ambienc spaciou outdoor dine', 'dish realli tasti thai dish tasti must visit want tri differ differ dish tri fish dish realli good open air sit differ concept like photograph inner wall', 'love ambianc afternoon well even hour tast quit good fish prepar tasti fish soft fresh overal nice place casual outing noth fanci', 'gud ambienc food ok', 'good food', 'one crave servic food qualiti', 'great ambianc food', 'outdoor seat open food great', 'time favourit class act', 'fantast starter fabul ambienc', 'nice place', 'want amaz great food readi pay experi place', 'go malaka year loyal custom year last night bad experi dine kp branch friend given tabl tree middl dinner fruit', 'food alway excel year love outdoor dine nice decor xma new year time starter drink thai mutton chop crispi lotu stem chicken top hat prawn tempura complimentari xma plum cake nice touch', 'good veg non veg thai chines food courteou staff good ambianc', 'love place ambienc crowd food host', 'amaz place safeti measur dot', 'famili go restaur cuisin someth everyon ambienc great', 'food good', 'food servic good earlier last time went upto standard', 'best place town asian cuisin', 'good food good ambienc', 'relax ambienc feel space earlier locat small cramp lot plant soft light provid natur feel servic friendli attent nice varieti south east asian cuisin good size help', 'awesom food', 'amaz place amaz food amaz ambienc', 'littl bit expens amaz food', 'fantast food even better servic ambienc love definit must visit place pune', 'good ambienc good food good servic go place', 'costli affair', 'love kari kapitan one favorit usual brown rice top hat ramen favorit servic amaz', 'amaz ambienc focu amaz set starter appet main cours ok sort', 'place never disappoint love top hat good locat good crowd good ambienc great food amaz servic keep', 'time favourit place never let experi howev tast need improv mani special restaur come competit dish tast good not outstand consid price', 'love food creami soup green thai curri heart forev beauti light ambienc', 'great ambienc delici food appropri portion size must tri explor new delicaci', 'great locat good food lot open air seat perfect day keep distanc', 'place great atmospher chill cool staff also realli friendli know talk say enjoy everi singl bite meal cours meal', 'malaka spice old favourit pune love go back time ambienc fantast love sit outdoor take back typic mallacan street modern day singapor malaysia etc', 'alway best class almost brainer want south asian cuisin absolut love', 'great food ambienc', 'love authent thai food', 'time favourit', 'best love murtabak', 'gourmet restaur south east asian delicaci peac ambienc lamb chop murtabak chicken burmes curri noodl chicken top hat chicken world follow sanit measur book advanc', 'good ambienc tasti food', 'beauti day husband birthday dish super tasti', 'place good vibe sweet ambienc food look tast delici', 'expens', 'nice spaciou restaur food awesom offer varieti delicaci', 'great food great vibe', 'good food good vibe must visit', 'good food hygien', 'nice restaur great ambianc love', 'malaka spice absolut delight ambienc food right soup main cours much flavor', 'first trip lockdown like come back home back basic', 'excel tast amaz servic', 'good place good ambienc good tast polit staff', 'great place dinner love one', 'ambienc good safeti standard follow reach ask place order onlin despit go headach figur menu final order place inform not work highli contradictori surpris therefor rate', 'place good servic plu food qualiti', 'price quit high price kinl buck ask ambienc good spend money blindli definit go', 'good famili friend tasti food refresh mocktail', 'nice place dine famili', 'great restaur excel servic amaz food order butter garlic lobster love chicken tempura simpli yummi noodl recommend chef great love go famili p sure let staff know advanc want lobster', 'great food love ambienc', 'nice quiet hygien place comfort sit shade tree sit natur', 'differ experi food usual', 'good food great servic', 'nice restaur good food nice ambienc importantli felt safe hygien made relax meal without untoward back thought due current situat', 'food great qualiti servic also nice ambienc perfect date', 'awesom place thai food lover', 'nice food good place casual lunch dinner', 'indian option', 'nice ambienc', 'maharashtrian guy staff blue shirt talk cell phone stare slightli bald rude offens', 'perfect food', 'nice restaur thai food special chicken skewer must great ambianc subtl light friendli servic reduc covid transmiss made place qr code tabl scan get menu serv thai food great dinner would visit', 'best south east asian food pune', 'realli good place awsm place', 'good food', 'good food nice ambianc', 'good place nice peac dinner', 'old nice place good ambianc good servic tasti food must visit', 'bad custom servic reserv payment system pathet avoid place', 'better option malay thai special restaur indian peopl like nevertheless worth visit', 'good space tabl food continu great tri spinach soup', 'malaka spice earlier famili time friend covid arrang fine bit disappoint choic food drink not avail veg dimsum sula red wine', 'great food alway good physic distanc tabl top notch sanit effici staff super servic', 'place actual nice chill around thing gave one star less got food late wait sometim food arriv qualiti made understand southeast asian cuisin would realli great food bit spici', 'best asian cuisin restaur pune must tri thai lamb chop succul lamb chop pune basa fish satay thai curri red green kari kapitan chicken murtabak chicken', 'serv one best thai dish pune ambienc amaz visit two outlet koregaon park viman nagar kp one cours best right food staff servic', 'wonder meal servic', 'restaur park space insid often full offer valet servic got nice tabl saw extens menu offer tasti dish difficulti abl decid order starter awesom', 'good', 'food averag atmospher also not great shop item price', 'good atmospher', 'best place dine india renown khowsuey delici famou good present', 'love place foe lot time great food great servic', 'gr place malaysian food good etho', 'notch thai place closer authent malay n thai food good decor slightli expens per person', 'tri asian cuisin tast uniqu must tri explor varieti food', 'say place name catchi dont know whether food authent not simpli love serv almost south asean cuisin indian touch ambienc simpli love', 'must visit', 'best place tai food', 'everi dish prepar serv care', 'sprin roll mutton realli awesom', 'great dish veg option', 'perfect ambianc food', 'promot art n that wonder', 'nice overpr', 'one best place visit pune food heaven koregaon park signatur dish drive tast bud crazi place equal right given veg non veg delicaci great perfect place', 'good food u lover asian continent food', 'food delici servic v quick', 'place establish long long time ago kept pace grow burgeon popul foodi let regular maintain standard restaur come go stay cours eon go enjoy indoor outdoor', 'good ambienc', 'good food good servic bit pricey though', 'favourit south east asian restaur dont miss ur pune', 'must visit place pune upscal venu crowd vibrant uniqu menu amaz tast', 'great tast good quantiti bit overpr', 'good servic excel interior', 'first time visit restaur realli appreci ambienc servic excel food fresh tasti well cook must visit place time let experi get fulli drench mind soul thank time well spent small famili pune', 'amaz food great ambianc', 'amaz food ambienc', 'mosquito breed place food drink averag tast', 'good food n color ambienc prawn tempura sushi must tri love food', 'first visit probabl last not fan thai food budget friendli howev', 'ambienc impress spaciou outsid seat thought tabl need bit broader accommod plate serv dish go insid comment tri thai cuisin pretti sure', 'good food reason price suggest order starter order main get starter like everywher india food turn fanci give not right order', 'nice ambienc special thai continent food perfect candl light dinner', 'amaz place awesom food', 'best place delici food mutton chop must tri', 'waiter abl suggest food per tast either spici sweet', 'love ambienc food tast good not mani option vegetarian went team realli good time', 'love place good servic yummi food final eye catch ambienc', 'amaz food amaz ambienc amaz servic restaur pune love', 'food ambianc excel lost lot appeal person restaur jam pack peopl half air condition work second pan asian not requir', 'amaz soup noodl', 'best place spend time food famili', 'malaka spice go place someon visit pune alway live pan asian select introduc varieti pleas palat also good select drink go ambienc staff', 'delici love flavour', 'serv spici south east asian food high end fine dine restaur', 'good food great ambienc servic pretti averag improv', 'wonder ambienc food servic go place pan asian food', 'amaz amaz food decor ambienc servic total worth visit highli recommend', 'burmes curri noodl etern good', 'hello malaka spice first profession rate restaur awar handl big group univers guest part hotel manag suppos learnt peopl', 'delici cool place yummi meal gin tonic', 'nice food ambienc went lunch pretti sure place live even', 'love place eat malaka sinc never disappoint qualiti food one restaur even get town guest kind like must visit place pune', 'excel ambienc amaz tast courteou staff', 'nice place visit fine dine experi food amaz ambienc nice waiter also polit ask recommend ye valet park avail worri find park spot', 'must tast lemon grass ice cream', 'visit place sunday lunch big outdoor area nice sit chat guess show live event big screen fun food ok staff good', 'ambienc good open area sit give close natur vibe due greeneri tri differ varieti cousin among dessert malaka magic choco lava must tri', 'place one favourit place go lunch dinner food amaz staff super friendli', 'buffet awesom', 'bland', 'absolut delight food everytim chop jaggeri icecream must', 'amaz ambienc truli great food awesom servic visit place mani time busi friend famili experi consist never fail serv best ipa pune', 'great food love ambienc good servic', 'love place foe lot time great food great servic', 'great place', 'aw food', 'amaz place food realli nice good ambienc', 'good tast bit expens though', 'would say averag experi saw rat move around order veg thai green curri sweet usual pune europ mani place honestli worst ever disappoint think restaur realli overhyp', 'food ambienc good', 'never perfect restaur like malaka spice hospit fantast', 'great tast bit expens', 'great servic good food love ambienc', 'good food park littl problem go earli help', 'good ambienc help staff tasti food order firework prawnz thai red curri chocol bake chees cake lemongrass ice cream best', 'food actual amaz order take pleas awar incomplet order deliv blame put deliveri boy', 'nice place great food ambienc friendli staff well good lunch parti', 'renown good food', 'time earlier familiar kind menu offer tast ambienc malaka spice score big front serv fine fare excel set leav place full well', 'wonder food absolut enjoy experi', 'nice place embienc expens need fond south asian food relish expens dish order', 'seren good crowd also nice select dish', 'great place quick stopbi place hungri thirsti believ folk not disappoint us bar menu food everyth good ambienc great prefer sit open order differ food drink cocktail hard drink cocktail amaz good', 'food great ambienc amaz staff might littl slow overal good experi', 'exquisit food', 'fall love place perfect place take date valentin day', 'nice ambienc take good pictur go buffet weekday awesom place spend time love one', 'nice place', 'love', 'excel servic excel food excel ambienc care sit outsid though bird tree poop food n', 'unusu place recommend asian fusion meal', 'excel food ambienc pumpkin chip veg tampora superb', 'awesom food', 'realli nice thai cuisin n nice custom servic', 'ambienc food servic good enough tri', 'alway love ambienc food die realli realli want valu money go buffet weekday unlimit delici tast plate pan asian food unlimit cocktail let game begin', 'food amaz littl touch like use sugar cane skewer food flavor drink excel outdoor seat area well overal beauti aesthet food servic', 'love food ambienc servic must visit place', 'food good limit veg option though', 'enjoy lot new year eve must visit place', 'confus malaka spice dopplegang version use love place mayb roadsid chines stall up ant difficult differenti restaur long done compar price', 'nice ambienc superb tasti dish good place spend time love one would alway prefer dinner instead lunch due love outdoor seat staff polit impress well', 'poor servic food', 'beauti place', 'good food good servic', 'menu look bit like head chef help food absolut superb would recommend peopl look relax time eat friend famili', 'food good', 'brilliant food ambienc servic must visit pune visit', 'best pumpkin chip', 'nice ambianc ok food', 'excess spice food abl eat', 'ambienc good decent tast veg well non veg good place coupl', 'alway great dine experi', 'worst food qualiti test happen malaka guy ok', 'start good not main cours', 'nice food', 'excel', 'visit jan beauti ambienc great tast fast servic staff help select food dish pumpkin chip prawn cracker dish superb', 'not bad', 'nice place visit would suggest book outsid food good ambienc awesom', 'love vibe', 'great ambienc food drink', 'good food must visit place', 'food amaz', 'amaz food love ambienc', 'hype', 'love food love place love atmospher', 'amaz place asian cuisin nice vibe', 'famili favorit', 'good meal classi friendli atmospher', 'amaz food ambianc staff attent quick servic', 'food good overpr', 'amaz food', 'nice starter decor', 'not find live hype ok one time visit', 'amaz costlier side nice ambienc delici food get authent thai continent vietnames not must visit', 'must visit pune would highli recommend place german bakeri road great food amaz non vegetarian option', 'ambienc good term food not much satisfi portion small also tast kind ok look place tri differ type food go noth like wow factor', 'good ambienc food overr feel like everyth tast similar bar varieti limit', 'ambienc food well manner staff prompt servic reason made fall love place ensur return highli recommend anyon everyon live visit pune', 'food osm', 'must experi', 'nice food staff good stir fri dish', 'good south east asian food', 'good food price', 'nice', 'nice restaur beauti atmospher good food', 'got even arriv pune mumbai food good nice veg stir fri dumpl skewer servic bad rush rude uncomfort shame tarnish food', 'love interior design', 'love food qualiti tast servic ambienc exemplari littl expens great corpor event', 'good food choic staff awesom', 'excel ambienc deleci innov food', 'place awesom restaur koregaon park marvel food food menu root south asia ex hongkong malaysia thailand vietnam etc everi dish quit tasti way', 'sooth ambienc amaz food', 'good valu money', 'fantast food environ ok expens good servic made rich peopl excel menu card design toto make worth visit', 'good food good dine', 'ambienc calm prefer sit non smoke area better rejuven staff help explain dish u order tast quantiti n qualiti excel miss visit rest room wonder hospit', 'great malaysian thai food option great servic hospit', 'nice east asian food', 'great place good ambianc', 'favourit go place malaka spice never disappoint great food servic', 'best restaur', 'great food buffet option awesom unlimit food drink', 'great vegan food option one best place food ever visit absolut love food servic also great expens guess good qualiti come price draught beer rupe thought ott otherwis would visit food', 'soup malaska excel issu fish overcook chicken starter good', 'great ambienc food not great', 'good ambienc good orient food amaz servic resto come long way noth chang last year except locat', 'not good tast not good quantiti', 'good eastern cuisin', 'malaka spice realli good good servic', 'season continent nice asian cuisin especi south east asian', 'place serv best south east asian cuisin pune consist across year term qualiti quantiti visit ms never go wrong', 'great food nice ambienc', 'ok place good excel ambienc servic love make sure good idea want name bit decept tast good', 'best thai green curri around', 'alway pleasur go back malaka spice retain charm great tast food year kari kapitaan roti kanai worth tri', 'great food atmospher place fast servic amaz non alcohol drink best restaur visit pune', 'vegetarian not much avail even non vegetarian sea food quantiti limit serv good thing pleasant ambienc busi place', 'one best restaur ever come across', 'nice live place tasti food courteou staff tast decor open air seat wonder', 'good food slightli expens quantiti', 'keep come back wonder experi even better food']\n"
          ],
          "name": "stdout"
        }
      ]
    },
    {
      "cell_type": "markdown",
      "metadata": {
        "id": "CLqmAkANCp1-"
      },
      "source": [
        "## Creating the Bag of Words model"
      ]
    },
    {
      "cell_type": "code",
      "metadata": {
        "id": "qroF7XcSCvY3"
      },
      "source": [
        "from sklearn.feature_extraction.text import CountVectorizer\n",
        "cv = CountVectorizer(max_features = 1500)\n",
        "X = cv.fit_transform(corpus).toarray()\n",
        "y = dataset.iloc[:, -1].values"
      ],
      "execution_count": 130,
      "outputs": []
    },
    {
      "cell_type": "markdown",
      "metadata": {
        "id": "DH_VjgPzC2cd"
      },
      "source": [
        "## Splitting the dataset into the Training set and Test set"
      ]
    },
    {
      "cell_type": "code",
      "metadata": {
        "id": "qQXYM5VzDDDI"
      },
      "source": [
        "from sklearn.model_selection import train_test_split\n",
        "X_train, X_test, y_train, y_test = train_test_split(X, y, test_size = 0.20, random_state = 0)"
      ],
      "execution_count": 131,
      "outputs": []
    },
    {
      "cell_type": "markdown",
      "metadata": {
        "id": "VkIq23vEDIPt"
      },
      "source": [
        "## Training the Naive Bayes model on the Training set"
      ]
    },
    {
      "cell_type": "code",
      "metadata": {
        "id": "DS9oiDXXDRdI",
        "colab": {
          "base_uri": "https://localhost:8080/",
          "height": 35
        },
        "outputId": "a8334a9f-5a1e-440a-d859-7afecb5256d2"
      },
      "source": [
        "'''from sklearn.naive_bayes import GaussianNB\n",
        "classifier = GaussianNB()\n",
        "classifier.fit(X_train, y_train)'''"
      ],
      "execution_count": 132,
      "outputs": [
        {
          "output_type": "execute_result",
          "data": {
            "application/vnd.google.colaboratory.intrinsic+json": {
              "type": "string"
            },
            "text/plain": [
              "'from sklearn.naive_bayes import GaussianNB\\nclassifier = GaussianNB()\\nclassifier.fit(X_train, y_train)'"
            ]
          },
          "metadata": {
            "tags": []
          },
          "execution_count": 132
        }
      ]
    },
    {
      "cell_type": "markdown",
      "metadata": {
        "id": "1JaRM7zXDWUy"
      },
      "source": [
        "## Predicting the Test set results"
      ]
    },
    {
      "cell_type": "code",
      "metadata": {
        "id": "Iif0CVhFDaMp",
        "colab": {
          "base_uri": "https://localhost:8080/"
        },
        "outputId": "94f15136-3ba0-4947-aea5-d72f1b69b0d4"
      },
      "source": [
        "y_pred = classifier.predict(X_test)\n",
        "print(np.concatenate((y_pred.reshape(len(y_pred),1), y_test.reshape(len(y_test),1)),1))"
      ],
      "execution_count": 133,
      "outputs": [
        {
          "output_type": "stream",
          "text": [
            "[[1 1]\n",
            " [1 0]\n",
            " [1 1]\n",
            " [1 1]\n",
            " [1 1]\n",
            " [1 1]\n",
            " [1 1]\n",
            " [1 1]\n",
            " [1 1]\n",
            " [1 1]\n",
            " [1 1]\n",
            " [1 1]\n",
            " [1 1]\n",
            " [1 0]\n",
            " [1 1]\n",
            " [1 1]\n",
            " [0 1]\n",
            " [1 1]\n",
            " [1 1]\n",
            " [1 1]\n",
            " [1 1]\n",
            " [1 1]\n",
            " [1 1]\n",
            " [1 1]\n",
            " [1 1]\n",
            " [1 1]\n",
            " [1 1]\n",
            " [1 1]\n",
            " [1 1]\n",
            " [0 1]\n",
            " [1 1]\n",
            " [1 1]\n",
            " [1 1]\n",
            " [1 1]\n",
            " [1 1]\n",
            " [1 0]\n",
            " [1 0]\n",
            " [1 1]\n",
            " [0 0]\n",
            " [1 1]\n",
            " [1 0]\n",
            " [1 1]\n",
            " [1 0]\n",
            " [1 1]\n",
            " [1 0]\n",
            " [1 1]\n",
            " [0 0]\n",
            " [1 1]\n",
            " [1 1]\n",
            " [1 1]\n",
            " [1 1]\n",
            " [1 1]\n",
            " [1 0]\n",
            " [1 0]\n",
            " [1 1]\n",
            " [1 1]\n",
            " [1 1]\n",
            " [1 1]\n",
            " [1 1]\n",
            " [0 0]\n",
            " [1 1]\n",
            " [1 1]\n",
            " [1 1]\n",
            " [1 1]\n",
            " [1 1]\n",
            " [1 1]\n",
            " [1 1]\n",
            " [1 1]\n",
            " [1 1]\n",
            " [1 1]\n",
            " [1 1]\n",
            " [1 1]\n",
            " [1 1]\n",
            " [1 1]\n",
            " [1 1]\n",
            " [1 1]\n",
            " [1 1]\n",
            " [1 1]\n",
            " [1 1]\n",
            " [1 1]\n",
            " [0 0]\n",
            " [1 1]\n",
            " [1 1]\n",
            " [1 1]\n",
            " [1 1]\n",
            " [1 1]\n",
            " [1 1]\n",
            " [1 1]\n",
            " [1 0]\n",
            " [1 1]\n",
            " [1 0]\n",
            " [0 0]\n",
            " [1 1]\n",
            " [1 1]\n",
            " [1 1]\n",
            " [1 1]\n",
            " [1 1]\n",
            " [1 1]\n",
            " [0 0]\n",
            " [1 0]\n",
            " [1 1]\n",
            " [1 1]\n",
            " [1 1]\n",
            " [1 1]\n",
            " [1 1]\n",
            " [1 1]\n",
            " [1 1]\n",
            " [1 1]\n",
            " [1 1]\n",
            " [1 1]\n",
            " [0 0]\n",
            " [0 0]\n",
            " [1 1]\n",
            " [1 1]\n",
            " [1 1]\n",
            " [1 1]\n",
            " [1 1]\n",
            " [1 1]\n",
            " [1 1]\n",
            " [1 1]\n",
            " [1 1]\n",
            " [1 0]\n",
            " [1 1]\n",
            " [1 1]\n",
            " [1 1]\n",
            " [1 0]\n",
            " [1 1]\n",
            " [1 1]\n",
            " [1 1]\n",
            " [1 1]\n",
            " [1 1]\n",
            " [1 1]\n",
            " [1 0]\n",
            " [1 1]\n",
            " [1 1]\n",
            " [1 1]\n",
            " [1 1]\n",
            " [1 1]\n",
            " [1 1]\n",
            " [1 1]\n",
            " [1 1]\n",
            " [1 1]\n",
            " [1 1]\n",
            " [1 1]\n",
            " [1 0]\n",
            " [1 1]\n",
            " [1 1]\n",
            " [1 1]\n",
            " [1 1]\n",
            " [1 1]\n",
            " [1 1]\n",
            " [1 1]\n",
            " [1 1]]\n"
          ],
          "name": "stdout"
        }
      ]
    },
    {
      "cell_type": "markdown",
      "metadata": {
        "id": "xoMltea5Dir1"
      },
      "source": [
        "## Making the Confusion Matrix"
      ]
    },
    {
      "cell_type": "code",
      "metadata": {
        "id": "Xj9IU6MxDnvo",
        "colab": {
          "base_uri": "https://localhost:8080/"
        },
        "outputId": "7d3b187c-32e8-41ff-a6d2-f4a9ed63cc30"
      },
      "source": [
        "from sklearn.metrics import confusion_matrix, accuracy_score\n",
        "cm = confusion_matrix(y_test, y_pred)\n",
        "print(cm)\n",
        "accuracy_score(y_test, y_pred)"
      ],
      "execution_count": 134,
      "outputs": [
        {
          "output_type": "stream",
          "text": [
            "[[  8  16]\n",
            " [  2 127]]\n"
          ],
          "name": "stdout"
        },
        {
          "output_type": "execute_result",
          "data": {
            "text/plain": [
              "0.8823529411764706"
            ]
          },
          "metadata": {
            "tags": []
          },
          "execution_count": 134
        }
      ]
    },
    {
      "cell_type": "code",
      "metadata": {
        "id": "to1ulY294zZv",
        "colab": {
          "base_uri": "https://localhost:8080/"
        },
        "outputId": "157ccb47-c6f3-4559-9a68-fc201948e940"
      },
      "source": [
        "print(X_test)"
      ],
      "execution_count": 135,
      "outputs": [
        {
          "output_type": "stream",
          "text": [
            "[[0 0 0 ... 0 0 0]\n",
            " [0 0 0 ... 0 0 0]\n",
            " [0 0 0 ... 0 0 0]\n",
            " ...\n",
            " [0 0 0 ... 0 0 0]\n",
            " [0 0 0 ... 0 0 0]\n",
            " [0 0 0 ... 0 0 0]]\n"
          ],
          "name": "stdout"
        }
      ]
    },
    {
      "cell_type": "markdown",
      "metadata": {
        "id": "NZcOJH_x9GSV"
      },
      "source": [
        "## Predicting if a single review is positive or negative"
      ]
    },
    {
      "cell_type": "code",
      "metadata": {
        "id": "4-jZEzWD49su",
        "colab": {
          "base_uri": "https://localhost:8080/"
        },
        "outputId": "27bc45be-e39e-4a67-e2b2-d7b5a2eddcee"
      },
      "source": [
        "new_review = input(\"Enter Review : \")\n",
        "new_review = re.sub('[^a-zA-Z]', ' ', new_review)\n",
        "new_review = new_review.lower()\n",
        "new_review = new_review.split()\n",
        "ps = PorterStemmer()\n",
        "all_stopwords = stopwords.words('english')\n",
        "all_stopwords.remove('not')\n",
        "new_review = [ps.stem(word) for word in new_review if not word in set(all_stopwords)]\n",
        "new_review = ' '.join(new_review)\n",
        "new_corpus = [new_review]\n",
        "new_X_test = cv.transform(new_corpus).toarray()\n",
        "new_y_pred = classifier.predict(new_X_test)\n",
        "if new_y_pred == 1:\n",
        "  print(\"The review is Positive.\")\n",
        "else:\n",
        "  print(\"The review is Negative.\")"
      ],
      "execution_count": 145,
      "outputs": [
        {
          "output_type": "stream",
          "text": [
            "Enter Review : Great vegan food and options. One of the best places for food I've ever visited, and absolutely loved the food. Service was also great. But, it was expensive! I guess good quality comes at a price, but a draught beer was 800 rupees! I thought that to be over OTT, but otherwise would visit again for the food.\n",
            "The review is Positive.\n"
          ],
          "name": "stdout"
        }
      ]
    },
    {
      "cell_type": "code",
      "metadata": {
        "colab": {
          "base_uri": "https://localhost:8080/"
        },
        "id": "qO2TY5Ko13g2",
        "outputId": "6caec46d-1e2f-4fef-aa34-36998050d334"
      },
      "source": [
        "from nltk.sentiment import SentimentIntensityAnalyzer\n",
        "sia = SentimentIntensityAnalyzer()\n",
        "diction = sia.polarity_scores(new_review)\n",
        "print(diction)\n",
        "print(diction['compound'])"
      ],
      "execution_count": 146,
      "outputs": [
        {
          "output_type": "stream",
          "text": [
            "{'neg': 0.0, 'neu': 0.571, 'pos': 0.429, 'compound': 0.9661}\n",
            "0.9661\n"
          ],
          "name": "stdout"
        }
      ]
    }
  ]
}